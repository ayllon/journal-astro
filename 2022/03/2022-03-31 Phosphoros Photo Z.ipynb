{
 "cells": [
  {
   "cell_type": "code",
   "execution_count": 1,
   "id": "ea24a972-f2f9-4a11-b594-44954ef399f1",
   "metadata": {},
   "outputs": [
    {
     "name": "stderr",
     "output_type": "stream",
     "text": [
      "WARNING : using environment variable BINARY_TAG for binary_tag\n",
      "WARNING : x86_64-fc34-gcc112-dbg is not in the list of distributed configurations\n"
     ]
    }
   ],
   "source": [
    "import matplotlib.pyplot as plt\n",
    "import numpy as np\n",
    "import os\n",
    "import sys\n",
    "import ElementsEnv\n",
    "from astropy.table import Table, join\n",
    "\n",
    "%erun Phosphoros 1.3\n",
    "\n",
    "from PhzCLI.PlotSpecZComparison import compute_stats"
   ]
  },
  {
   "cell_type": "code",
   "execution_count": 2,
   "id": "70c94c91-c702-4c0d-8aed-b4c02ce838b9",
   "metadata": {},
   "outputs": [],
   "source": [
    "truth = Table.read('/home/aalvarez/Work/Data/SC8/PHZ_Prod_18oct2021/MockMER_WIDE_LSST_100K_T0.fits')\n",
    "truth = truth[['OBJECT_ID', 'Ztrue']]"
   ]
  },
  {
   "cell_type": "code",
   "execution_count": 7,
   "id": "c14e6001-9fb6-4493-abb9-e0c5b9d77fae",
   "metadata": {},
   "outputs": [],
   "source": [
    "original = Table.read('/home/aalvarez/Work/Data/SC8/PHZ_Prod_18oct2021/Nnpz/cpp.fits', hdu=1)\n",
    "phos_photo = Table.read('/home/aalvarez/Work/Data/SC8/PHZ_Prod_18oct2021/Nnpz/photo_phos.fits', hdu=1)"
   ]
  },
  {
   "cell_type": "code",
   "execution_count": 8,
   "id": "8ef30598-d041-4c06-8d17-7247ab89732a",
   "metadata": {},
   "outputs": [],
   "source": [
    "original_cross = join(truth, original, 'OBJECT_ID')\n",
    "phos_cross = join(truth, phos_photo, 'OBJECT_ID')\n",
    "\n",
    "original_cross = np.array(original_cross[~original_cross['REDSHIFT_MEAN'].mask])"
   ]
  },
  {
   "cell_type": "code",
   "execution_count": 9,
   "id": "7a5d6ba6-21dc-4468-b145-c451da5f1cac",
   "metadata": {},
   "outputs": [
    {
     "name": "stdout",
     "output_type": "stream",
     "text": [
      "--> Mean                :  -0.007257643\n",
      "--> Median              :  -0.003900763\n",
      "--> Sigma               :  0.07000774\n",
      "--> Mad                 :  0.021811653\n",
      "--> Outliers            :  3.904670825273316 %\n",
      "--> Sigma (no outliers) :  0.0289502\n"
     ]
    }
   ],
   "source": [
    "_ = compute_stats(original_cross['Ztrue'], original_cross['REDSHIFT_MEAN'])"
   ]
  },
  {
   "cell_type": "code",
   "execution_count": 10,
   "id": "93cbdf87-d94f-4c36-989b-35c457221df4",
   "metadata": {},
   "outputs": [
    {
     "name": "stdout",
     "output_type": "stream",
     "text": [
      "--> Mean                :  -0.00712478\n",
      "--> Median              :  -0.0039126775\n",
      "--> Sigma               :  0.07119674\n",
      "--> Mad                 :  0.021838954\n",
      "--> Outliers            :  3.9360326789574893 %\n",
      "--> Sigma (no outliers) :  0.02893705\n"
     ]
    }
   ],
   "source": [
    "_ = compute_stats(phos_cross['Ztrue'], phos_cross['REDSHIFT_MEAN'])"
   ]
  },
  {
   "cell_type": "raw",
   "id": "36fda18e-5389-4b78-9a05-e2946005d119",
   "metadata": {},
   "source": [
    "--> Mean                :  -0.0071283323\n",
    "--> Median              :  -0.00390215\n",
    "--> Sigma               :  0.07117256\n",
    "--> Mad                 :  0.021831926\n",
    "--> Outliers            :  3.929514269883864 %\n",
    "--> Sigma (no outliers) :  0.028947266\n"
   ]
  },
  {
   "cell_type": "code",
   "execution_count": null,
   "id": "0616f1a4-44ce-4962-ba29-f784d5bcce35",
   "metadata": {},
   "outputs": [],
   "source": []
  }
 ],
 "metadata": {
  "kernelspec": {
   "display_name": "Python 3 (ipykernel)",
   "language": "python",
   "name": "python3"
  },
  "language_info": {
   "codemirror_mode": {
    "name": "ipython",
    "version": 3
   },
   "file_extension": ".py",
   "mimetype": "text/x-python",
   "name": "python",
   "nbconvert_exporter": "python",
   "pygments_lexer": "ipython3",
   "version": "3.7.12"
  }
 },
 "nbformat": 4,
 "nbformat_minor": 5
}
