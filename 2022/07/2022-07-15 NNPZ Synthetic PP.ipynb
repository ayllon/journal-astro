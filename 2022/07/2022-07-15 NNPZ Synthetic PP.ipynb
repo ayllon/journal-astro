{
 "cells": [
  {
   "cell_type": "code",
   "execution_count": 1,
   "id": "d935f7c6-d715-46f3-b1f5-6e013967cb3a",
   "metadata": {},
   "outputs": [
    {
     "name": "stderr",
     "output_type": "stream",
     "text": [
      "WARNING : using environment variable BINARY_TAG for binary_tag\n",
      "WARNING : x86_64-fc35-gcc113-dbg is not in the list of distributed configurations\n"
     ]
    }
   ],
   "source": [
    "import Euclid\n",
    "import numpy as np\n",
    "import os\n",
    "from glob import glob\n",
    "from tqdm.auto import tqdm\n",
    "from astropy.table import Table\n",
    "\n",
    "%erun PHZ_NNPZ\n",
    "\n",
    "from nnpz.reference_sample.ReferenceSample import ReferenceSample"
   ]
  },
  {
   "cell_type": "code",
   "execution_count": 2,
   "id": "fe9f6407-d048-4e97-be0e-3994353b2472",
   "metadata": {},
   "outputs": [
    {
     "data": {
      "text/plain": [
       "1197533"
      ]
     },
     "execution_count": 2,
     "metadata": {},
     "output_type": "execute_result"
    }
   ],
   "source": [
    "cat = Table.read('/home/aalvarez/Work/Data/WillPP/Ref1200//phot.fits', hdu=1)\n",
    "len(cat)"
   ]
  },
  {
   "cell_type": "code",
   "execution_count": 3,
   "id": "9e569b47-a434-40b1-8e76-1cf8f3e41d78",
   "metadata": {},
   "outputs": [],
   "source": [
    "pp_sample = np.load('/home/aalvarez/Work/Data/WillPP/ReferenceSample/pp_data_1.npy', mmap_mode='r')"
   ]
  },
  {
   "cell_type": "code",
   "execution_count": 4,
   "id": "c3cd24e0-00b6-4c6e-99a0-c4fd5132340b",
   "metadata": {},
   "outputs": [],
   "source": [
    "providers = {\n",
    "    'MontecarloProvider': {'name': 'pp', 'data': 'pp_data_{}.npy'},\n",
    "    'PdzProvider': {'name': 'pdz', 'data': 'pdz_data_{}.npy'},\n",
    "}"
   ]
  },
  {
   "cell_type": "code",
   "execution_count": 5,
   "id": "3b6433ec-d2cd-4473-89e7-9054915ab27e",
   "metadata": {},
   "outputs": [
    {
     "name": "stderr",
     "output_type": "stream",
     "text": [
      "INFO    : Found provider MontecarloProvider\n",
      "2022-07-15T12:40:45CEST ReferenceSample  INFO : Found provider MontecarloProvider\n",
      "INFO    : Found provider PdzProvider\n",
      "2022-07-15T12:40:45CEST ReferenceSample  INFO : Found provider PdzProvider\n"
     ]
    }
   ],
   "source": [
    "for p in glob('/home/aalvarez/Work/Data/WillPP/Ref1200/*.npy'):\n",
    "    os.unlink(p)     \n",
    "ref = ReferenceSample.create('/home/aalvarez/Work/Data/WillPP/Ref1200//', providers=providers)\n",
    "pdz_prov = ref.get_provider('pdz')\n",
    "pp_prov = ref.get_provider('pp')"
   ]
  },
  {
   "cell_type": "code",
   "execution_count": 6,
   "id": "178734d9-8a3d-4178-9a25-aea481912947",
   "metadata": {},
   "outputs": [],
   "source": [
    "zbins = np.linspace(0, 6, 600, dtype=np.float32)"
   ]
  },
  {
   "cell_type": "code",
   "execution_count": 7,
   "id": "b493da17-d8ee-48ee-a0c9-09ab92d604b2",
   "metadata": {},
   "outputs": [
    {
     "data": {
      "application/vnd.jupyter.widget-view+json": {
       "model_id": "17435606820446d7b5bd74e2903475cc",
       "version_major": 2,
       "version_minor": 0
      },
      "text/plain": [
       "  0%|          | 0/10 [00:00<?, ?it/s]"
      ]
     },
     "metadata": {},
     "output_type": "display_data"
    }
   ],
   "source": [
    "chunks = 10\n",
    "\n",
    "for src_ids in tqdm(np.array_split(cat['ID'], chunks)):\n",
    "    pdz = np.zeros((len(src_ids)+1, len(zbins)))\n",
    "    pdz[0] = zbins\n",
    "    pdz[1 + np.random.choice(len(zbins), size=len(src_ids))] = 1.\n",
    "    \n",
    "    pdz_prov.add_data(src_ids, pdz)\n",
    "    pp_prov.add_data(src_ids, pp_sample[np.random.choice(len(pp_sample), size=len(src_ids))])\n",
    "    \n",
    "    ref.flush()"
   ]
  },
  {
   "cell_type": "code",
   "execution_count": null,
   "id": "7f93e734-b362-45a2-8a47-d98cfa3a753b",
   "metadata": {},
   "outputs": [],
   "source": []
  }
 ],
 "metadata": {
  "kernelspec": {
   "display_name": "Python 3 (ipykernel)",
   "language": "python",
   "name": "python3"
  },
  "language_info": {
   "codemirror_mode": {
    "name": "ipython",
    "version": 3
   },
   "file_extension": ".py",
   "mimetype": "text/x-python",
   "name": "python",
   "nbconvert_exporter": "python",
   "pygments_lexer": "ipython3",
   "version": "3.10.5"
  }
 },
 "nbformat": 4,
 "nbformat_minor": 5
}
