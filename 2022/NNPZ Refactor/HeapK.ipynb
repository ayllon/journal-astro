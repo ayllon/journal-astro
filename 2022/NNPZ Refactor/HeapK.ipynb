{
 "cells": [
  {
   "cell_type": "code",
   "execution_count": 6,
   "id": "f5b34d1b-0110-4854-aa9c-3cbad9bc3c8d",
   "metadata": {},
   "outputs": [],
   "source": [
    "import numpy as np"
   ]
  },
  {
   "cell_type": "code",
   "execution_count": 14,
   "id": "f79818c4-70af-4145-be66-398fe66b24e7",
   "metadata": {},
   "outputs": [],
   "source": [
    "class Heap:\n",
    "    def __init__(self, n):\n",
    "        self.array = np.zeros(n)\n",
    "        self.arg = np.zeros(n, dtype=int)\n",
    "        self.n = n\n",
    "        self._count = 0\n",
    "        \n",
    "    @property\n",
    "    def count(self):\n",
    "        return self._count\n",
    "        \n",
    "    def add(self, v, idx):\n",
    "        i = self._count\n",
    "        self.array[i] = v\n",
    "        self.arg[i] = idx\n",
    "        self._count += 1\n",
    "        parent = int((i - 1) / 2)\n",
    "        while i > 0 and self.array[parent] < self.array[i]:\n",
    "            self.array[i], self.array[parent] = self.array[parent], self.array[i]\n",
    "            self.arg[i], self.arg[parent] = self.arg[parent], self.arg[i]\n",
    "            i = parent\n",
    "            parent = int((i - 1) / 2)\n",
    "        return i\n",
    "            \n",
    "    def pop(self):\n",
    "        self.array[0] = self.array[self._count - 1]\n",
    "        self.arg[0] = self.arg[self._count - 1]\n",
    "        \n",
    "        self._count -= 1\n",
    "        self.array[self._count] = 0\n",
    "        i = 0\n",
    "        largest = i\n",
    "        \n",
    "        while True:\n",
    "            left = 2 * i + 1\n",
    "            right = left + 1\n",
    "            if left < self._count and self.array[left] >= self.array[largest]:\n",
    "                largest = left\n",
    "            if right < self._count and self.array[right] >= self.array[largest]:\n",
    "                largest = right\n",
    "            \n",
    "            if largest != i:\n",
    "                self.array[i], self.array[largest] = self.array[largest], self.array[i]\n",
    "                self.arg[i], self.arg[largest] = self.arg[largest], self.arg[i]\n",
    "                i = largest\n",
    "            else:\n",
    "                break\n",
    "                \n",
    "    def add_clip(self, v, idx):\n",
    "        if self._count < self.n:\n",
    "            return self.add(v, idx)\n",
    "        elif self.array[0] > v:\n",
    "            self.pop()\n",
    "            return self.add(v, idx)"
   ]
  },
  {
   "cell_type": "code",
   "execution_count": 15,
   "id": "88669d96-b596-42e0-8dca-444578965c51",
   "metadata": {},
   "outputs": [],
   "source": [
    "values = np.random.randint(1000, size=500).astype(float)"
   ]
  },
  {
   "cell_type": "code",
   "execution_count": 23,
   "id": "7dd66755-5367-4eea-80c3-b84c8391248b",
   "metadata": {},
   "outputs": [
    {
     "data": {
      "text/plain": [
       "array([  1,   9,  29,  48,  69,  74,  98, 103, 104, 106, 117, 148, 156,\n",
       "       164, 167, 168, 194, 212, 230, 240, 247, 250, 264, 269, 270, 276,\n",
       "       293, 317, 330, 339, 364, 370, 390, 398, 406, 408, 410, 421, 427,\n",
       "       429, 442, 450, 453, 457, 461, 472, 475, 479, 491, 492])"
      ]
     },
     "execution_count": 23,
     "metadata": {},
     "output_type": "execute_result"
    }
   ],
   "source": [
    "h = Heap(50)\n",
    "tt = np.zeros(50)\n",
    "for i, v in enumerate(values):\n",
    "    p = h.add_clip(v, i)\n",
    "    if p is not None:\n",
    "        tt[p] = i\n",
    "np.sort(h.arg)"
   ]
  },
  {
   "cell_type": "code",
   "execution_count": 24,
   "id": "13d6b8da-8c95-4082-887a-fa7901c14bdb",
   "metadata": {},
   "outputs": [
    {
     "data": {
      "text/plain": [
       "array([  1,   9,  29,  48,  69,  74,  98, 103, 104, 106, 117, 148, 156,\n",
       "       164, 167, 168, 194, 212, 230, 240, 247, 250, 264, 269, 270, 276,\n",
       "       293, 317, 330, 339, 364, 370, 390, 398, 406, 408, 410, 421, 427,\n",
       "       429, 442, 450, 453, 457, 461, 472, 475, 479, 491, 492])"
      ]
     },
     "execution_count": 24,
     "metadata": {},
     "output_type": "execute_result"
    }
   ],
   "source": [
    "np.sort(np.argpartition(values, 50)[:50])"
   ]
  },
  {
   "cell_type": "code",
   "execution_count": 25,
   "id": "46c4f970-bda2-4cbf-9439-bd7733299c95",
   "metadata": {},
   "outputs": [
    {
     "data": {
      "text/plain": [
       "array([483.,  41., 331.,  37.,  19., 492.,  28.,  31.,  36.,  39.,   0.,\n",
       "       461.,  12.,   0.,  30.,  32.,  33.,   0.,  18.,  40.,   0.,  43.,\n",
       "        45.,  47., 450.,   0.,  26.,  27.,   0.,  29.,   0.,   0.,   0.,\n",
       "         0.,  34.,  35.,   0.,   0.,  38.,   0.,   0.,   0.,  42.,   0.,\n",
       "        44.,   0.,  46.,   0.,  48., 479.])"
      ]
     },
     "execution_count": 25,
     "metadata": {},
     "output_type": "execute_result"
    }
   ],
   "source": [
    "tt"
   ]
  },
  {
   "cell_type": "code",
   "execution_count": 26,
   "id": "4370ad7a-cb09-487c-a9b5-6d5d7e9cdc71",
   "metadata": {},
   "outputs": [
    {
     "data": {
      "text/plain": [
       "array([461, 370, 103, 104, 240, 492, 148, 408, 450, 194, 406, 491,  69,\n",
       "       168, 156,   1, 317, 293, 442, 453,  98, 270, 117,  48,  74, 247,\n",
       "       479, 106, 364,  29, 475, 429, 330, 276, 410, 339, 457, 269, 390,\n",
       "         9, 230, 427, 212, 421, 167, 164, 250, 264, 398, 472])"
      ]
     },
     "execution_count": 26,
     "metadata": {},
     "output_type": "execute_result"
    }
   ],
   "source": [
    "h.arg"
   ]
  },
  {
   "cell_type": "code",
   "execution_count": 31,
   "id": "70e4affe-e6b3-4257-ab13-5e3e14862f54",
   "metadata": {},
   "outputs": [
    {
     "name": "stdout",
     "output_type": "stream",
     "text": [
      "0\n",
      "0\n",
      "2\n",
      "0\n"
     ]
    },
    {
     "data": {
      "text/plain": [
       "array([50, 20,  3, 10,  0,  0,  0,  0,  0,  0,  0,  0,  0,  0,  0,  0,  0,\n",
       "        0,  0,  0,  0,  0,  0,  0,  0,  0,  0,  0,  0,  0,  0,  0,  0,  0,\n",
       "        0,  0,  0,  0,  0,  0,  0,  0,  0,  0,  0,  0,  0,  0,  0,  0])"
      ]
     },
     "execution_count": 31,
     "metadata": {},
     "output_type": "execute_result"
    }
   ],
   "source": [
    "h = Heap(50)\n",
    "print(h.add(10, 10))\n",
    "print(h.add(20, 20))\n",
    "print(h.add(3, 3))\n",
    "print(h.add(50, 50))\n",
    "h.arg"
   ]
  },
  {
   "cell_type": "code",
   "execution_count": null,
   "id": "acc091ce-180f-47d1-8a17-9df341cd2706",
   "metadata": {},
   "outputs": [],
   "source": []
  }
 ],
 "metadata": {
  "kernelspec": {
   "display_name": "Python 3 (ipykernel)",
   "language": "python",
   "name": "python3"
  },
  "language_info": {
   "codemirror_mode": {
    "name": "ipython",
    "version": 3
   },
   "file_extension": ".py",
   "mimetype": "text/x-python",
   "name": "python",
   "nbconvert_exporter": "python",
   "pygments_lexer": "ipython3",
   "version": "3.7.12"
  }
 },
 "nbformat": 4,
 "nbformat_minor": 5
}
