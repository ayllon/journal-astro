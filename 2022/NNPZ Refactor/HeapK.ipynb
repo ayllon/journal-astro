{
 "cells": [
  {
   "cell_type": "code",
   "execution_count": 1,
   "id": "f5b34d1b-0110-4854-aa9c-3cbad9bc3c8d",
   "metadata": {},
   "outputs": [],
   "source": [
    "import numpy as np"
   ]
  },
  {
   "cell_type": "code",
   "execution_count": 2,
   "id": "f79818c4-70af-4145-be66-398fe66b24e7",
   "metadata": {},
   "outputs": [],
   "source": [
    "class Heap:\n",
    "    def __init__(self, n):\n",
    "        self.array = np.zeros(n)\n",
    "        self.arg = np.zeros(n, dtype=int)\n",
    "        self.n = n\n",
    "        self._count = 0\n",
    "        \n",
    "    @property\n",
    "    def count(self):\n",
    "        return self._count\n",
    "        \n",
    "    def add(self, v, idx):\n",
    "        i = self._count\n",
    "        self.array[i] = v\n",
    "        self.arg[i] = idx\n",
    "        self._count += 1\n",
    "        parent = int((i - 1) / 2)\n",
    "        while i > 0 and self.array[parent] < self.array[i]:\n",
    "            self.array[i], self.array[parent] = self.array[parent], self.array[i]\n",
    "            self.arg[i], self.arg[parent] = self.arg[parent], self.arg[i]\n",
    "            i = parent\n",
    "            parent = int((i - 1) / 2)\n",
    "            \n",
    "    def pop(self):\n",
    "        self.array[0] = self.array[self._count - 1]\n",
    "        self.arg[0] = self.arg[self._count - 1]\n",
    "        \n",
    "        self._count -= 1\n",
    "        self.array[self._count] = 0\n",
    "        i = 0\n",
    "        largest = i\n",
    "        \n",
    "        while True:\n",
    "            left = 2 * i + 1\n",
    "            right = left + 1\n",
    "            if left < self._count and self.array[left] >= self.array[largest]:\n",
    "                largest = left\n",
    "            if right < self._count and self.array[right] >= self.array[largest]:\n",
    "                largest = right\n",
    "            \n",
    "            if largest != i:\n",
    "                self.array[i], self.array[largest] = self.array[largest], self.array[i]\n",
    "                self.arg[i], self.arg[largest] = self.arg[largest], self.arg[i]\n",
    "                i = largest\n",
    "            else:\n",
    "                break\n",
    "                \n",
    "    def add_clip(self, v, idx):\n",
    "        if self._count < self.n:\n",
    "            self.add(v, idx)\n",
    "        elif self.array[0] > v:\n",
    "            self.pop()\n",
    "            self.add(v, idx)"
   ]
  },
  {
   "cell_type": "code",
   "execution_count": 3,
   "id": "88669d96-b596-42e0-8dca-444578965c51",
   "metadata": {},
   "outputs": [],
   "source": [
    "values = np.random.randint(1000, size=500).astype(float)"
   ]
  },
  {
   "cell_type": "code",
   "execution_count": 4,
   "id": "7dd66755-5367-4eea-80c3-b84c8391248b",
   "metadata": {},
   "outputs": [
    {
     "data": {
      "text/plain": [
       "array([ 38,  39,  53,  59,  67,  69,  72,  77,  90,  95, 124, 125, 131,\n",
       "       159, 166, 174, 175, 179, 211, 216, 221, 222, 236, 244, 253, 262,\n",
       "       265, 275, 282, 301, 318, 326, 333, 353, 376, 377, 403, 412, 420,\n",
       "       452, 453, 460, 464, 481, 482, 486, 487, 489, 495, 498])"
      ]
     },
     "execution_count": 4,
     "metadata": {},
     "output_type": "execute_result"
    }
   ],
   "source": [
    "h = Heap(50)\n",
    "[h.add_clip(v, i) for i, v in enumerate(values)]\n",
    "np.sort(h.arg)"
   ]
  },
  {
   "cell_type": "code",
   "execution_count": 5,
   "id": "13d6b8da-8c95-4082-887a-fa7901c14bdb",
   "metadata": {},
   "outputs": [
    {
     "data": {
      "text/plain": [
       "array([ 38,  39,  53,  59,  67,  69,  72,  77,  90,  95, 124, 125, 131,\n",
       "       159, 166, 174, 175, 179, 211, 216, 221, 222, 236, 244, 253, 262,\n",
       "       265, 275, 282, 301, 318, 326, 333, 353, 376, 377, 403, 412, 444,\n",
       "       452, 453, 460, 464, 481, 482, 486, 487, 489, 495, 498])"
      ]
     },
     "execution_count": 5,
     "metadata": {},
     "output_type": "execute_result"
    }
   ],
   "source": [
    "np.sort(np.argpartition(values, 50)[:50])"
   ]
  },
  {
   "cell_type": "code",
   "execution_count": null,
   "id": "46c4f970-bda2-4cbf-9439-bd7733299c95",
   "metadata": {},
   "outputs": [],
   "source": []
  }
 ],
 "metadata": {
  "kernelspec": {
   "display_name": "Python 3 (ipykernel)",
   "language": "python",
   "name": "python3"
  },
  "language_info": {
   "codemirror_mode": {
    "name": "ipython",
    "version": 3
   },
   "file_extension": ".py",
   "mimetype": "text/x-python",
   "name": "python",
   "nbconvert_exporter": "python",
   "pygments_lexer": "ipython3",
   "version": "3.7.12"
  }
 },
 "nbformat": 4,
 "nbformat_minor": 5
}
