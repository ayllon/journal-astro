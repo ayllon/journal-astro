{
 "cells": [
  {
   "cell_type": "code",
   "execution_count": 29,
   "id": "74eb9783-e82d-490a-97b1-6f6cdca33ba4",
   "metadata": {},
   "outputs": [],
   "source": [
    "%matplotlib inline\n",
    "import numpy as np\n",
    "import matplotlib.pyplot as plt\n",
    "from astropy.table import Table, MaskedColumn\n",
    "from scipy.spatial import cKDTree as KDTree\n",
    "from tqdm.notebook import tqdm"
   ]
  },
  {
   "cell_type": "code",
   "execution_count": 2,
   "id": "4663f71e-4ee5-4dff-9fda-1a8e8953c526",
   "metadata": {},
   "outputs": [],
   "source": [
    "prod = '/home/aalvarez/Work/Data/SC8/PHZ_Prod_18oct2021/'"
   ]
  },
  {
   "cell_type": "code",
   "execution_count": 3,
   "id": "9a5c7f9c-d95a-4330-b5b6-4b14243aba97",
   "metadata": {},
   "outputs": [
    {
     "data": {
      "text/plain": [
       "500000"
      ]
     },
     "execution_count": 3,
     "metadata": {},
     "output_type": "execute_result"
    }
   ],
   "source": [
    "ref = Table.read(os.path.join(prod, 'ProductionInputEcdmHandler/star_reference_sample_dir.dir/phot.fits'), hdu=1)\n",
    "len(ref)"
   ]
  },
  {
   "cell_type": "code",
   "execution_count": 4,
   "id": "4cbce048-5952-4dba-94c6-8a486e0b85cd",
   "metadata": {},
   "outputs": [
    {
     "data": {
      "text/plain": [
       "5330"
      ]
     },
     "execution_count": 4,
     "metadata": {},
     "output_type": "execute_result"
    }
   ],
   "source": [
    "target = Table.read(os.path.join(prod, 'GalaxyFilteringTask/star_catalog.fits'))\n",
    "len(target)"
   ]
  },
  {
   "cell_type": "code",
   "execution_count": 5,
   "id": "d11b2498-ee43-4a24-8a9b-b5484902a01b",
   "metadata": {},
   "outputs": [],
   "source": [
    "truth = Table.read(os.path.join(prod, 'NnpzStarSed/output_file.fits'))"
   ]
  },
  {
   "cell_type": "code",
   "execution_count": 6,
   "id": "7b5e03f0-5e55-4ab2-b682-396cd78f0537",
   "metadata": {},
   "outputs": [],
   "source": [
    "config = dict()\n",
    "exec(open(os.path.join(prod, 'data/nnpz_star_sed_07Jun2021-094516.conf')).read(), config)"
   ]
  },
  {
   "cell_type": "code",
   "execution_count": 30,
   "id": "62c5aab3-680e-4580-9a45-1457e064753d",
   "metadata": {},
   "outputs": [
    {
     "name": "stdout",
     "output_type": "stream",
     "text": [
      "9 ['lsst/u', 'lsst/g', 'lsst/r', 'lsst/i', 'lsst/z', 'euclid/VIS', 'euclid/Y', 'euclid/J', 'euclid/H']\n"
     ]
    }
   ],
   "source": [
    "# Missing bands!\n",
    "ref_filters = config['reference_sample_phot_filters']\n",
    "target_filters = config['target_catalog_filters']\n",
    "\n",
    "ref_selected = []\n",
    "target_selected = []\n",
    "for rname, (tname, terr) in zip(ref_filters, target_filters):\n",
    "    if not isinstance(target[tname], MaskedColumn) or not target[tname].mask.all():\n",
    "        ref_selected.append(rname)\n",
    "        target_selected.append((tname, terr))\n",
    "print(len(ref_selected), ref_selected)"
   ]
  },
  {
   "cell_type": "markdown",
   "id": "7275aa81-0b2e-43db-89f5-7a0d04d11737",
   "metadata": {},
   "source": [
    "# Normalize the reference sample"
   ]
  },
  {
   "cell_type": "code",
   "execution_count": 31,
   "id": "863744b3-7c4d-4b3a-808c-a5dad72a85e1",
   "metadata": {},
   "outputs": [],
   "source": [
    "ref_photo = np.zeros((len(ref), len(ref_selected)))\n",
    "for i, fname in enumerate(ref_selected):\n",
    "    ref_photo[:, i] = ref[fname]"
   ]
  },
  {
   "cell_type": "code",
   "execution_count": 32,
   "id": "4123e94c-188b-4360-a3b5-6fa434f11c41",
   "metadata": {},
   "outputs": [],
   "source": [
    "ref_l2norm = ref_photo / np.sqrt(np.sum(ref_photo**2, axis=1, keepdims=True))"
   ]
  },
  {
   "cell_type": "code",
   "execution_count": 33,
   "id": "623f73d0-5e4c-4bae-a6d5-971fe899ba46",
   "metadata": {},
   "outputs": [],
   "source": [
    "ref_normed = ref_photo / ref_l2norm"
   ]
  },
  {
   "cell_type": "code",
   "execution_count": 34,
   "id": "844f385b-8c94-4741-b961-0fe996f6b380",
   "metadata": {},
   "outputs": [],
   "source": [
    "kdtree = KDTree(ref_normed)"
   ]
  },
  {
   "cell_type": "markdown",
   "id": "3c6ce56a-9489-45df-a968-c2d63ff34bf3",
   "metadata": {},
   "source": [
    "# Load and normalize the target"
   ]
  },
  {
   "cell_type": "code",
   "execution_count": 35,
   "id": "a4a5eacb-0842-4e06-a442-8f606a09dead",
   "metadata": {},
   "outputs": [],
   "source": [
    "target_photo = np.zeros((len(target), len(target_selected)))\n",
    "for i, (fname, ferr) in enumerate(target_selected):\n",
    "    target_photo[:, i] = target[fname]"
   ]
  },
  {
   "cell_type": "code",
   "execution_count": 36,
   "id": "a94cb6b8-45b6-4076-bd32-220ab07f2065",
   "metadata": {},
   "outputs": [],
   "source": [
    "target_normed = target_photo / np.sqrt(np.sum(target_photo**2, axis=1, keepdims=True))"
   ]
  },
  {
   "cell_type": "code",
   "execution_count": 37,
   "id": "e749f9bb-12ca-4ad0-b815-0638e5e9d07e",
   "metadata": {},
   "outputs": [
    {
     "data": {
      "text/plain": [
       "0.6091932457786117"
      ]
     },
     "execution_count": 37,
     "metadata": {},
     "output_type": "execute_result"
    }
   ],
   "source": [
    "target_mask = np.isnan(target_photo).sum(axis=1) == 0\n",
    "target_mask = target_mask & (truth['FLAGS_1'] == 0)\n",
    "target_mask.sum() / len(target)"
   ]
  },
  {
   "cell_type": "code",
   "execution_count": 40,
   "id": "dbf176ac-dacc-4fbf-bf3c-e5010b4dae69",
   "metadata": {},
   "outputs": [],
   "source": [
    "masked_normed = target_normed[target_mask]\n",
    "masked_truth = truth[target_mask]"
   ]
  },
  {
   "cell_type": "code",
   "execution_count": 41,
   "id": "2d8d7764-5b03-4400-bef1-707baf289ccd",
   "metadata": {},
   "outputs": [
    {
     "data": {
      "text/plain": [
       "True"
      ]
     },
     "execution_count": 41,
     "metadata": {},
     "output_type": "execute_result"
    }
   ],
   "source": [
    "(target[target_mask]['OBJECT_ID'] == masked_truth['OBJECT_ID']).all()"
   ]
  },
  {
   "cell_type": "markdown",
   "id": "a3107d08-bc2f-4523-9509-f922c40f0579",
   "metadata": {},
   "source": [
    "# How many match?"
   ]
  },
  {
   "cell_type": "code",
   "execution_count": 67,
   "id": "45610d0c-fc52-4906-b889-b322c56375fd",
   "metadata": {},
   "outputs": [],
   "source": [
    "_, ref_idx = kdtree.query(masked_norm, k=50000)"
   ]
  },
  {
   "cell_type": "code",
   "execution_count": 68,
   "id": "12abf044-782b-4ebe-9da5-d85c4a125ea2",
   "metadata": {},
   "outputs": [],
   "source": [
    "matched = []\n",
    "for nn, cnn in zip(masked_truth['NEIGHBOR_IDS'], ref_idx):\n",
    "    matched.append(np.in1d(nn, ref['ID'][cnn]).sum())"
   ]
  },
  {
   "cell_type": "code",
   "execution_count": 69,
   "id": "e0cf07cd-7bf5-4877-b48f-e9f3886e2a5f",
   "metadata": {},
   "outputs": [
    {
     "data": {
      "image/png": "[encoded data removed]",
      "text/plain": [
       "<Figure size 1440x360 with 1 Axes>"
      ]
     },
     "metadata": {
      "needs_background": "light"
     },
     "output_type": "display_data"
    }
   ],
   "source": [
    "plt.figure(figsize=(20, 5))\n",
    "plt.hist(matched, bins=np.arange(0, 31)-0.5)\n",
    "plt.show()"
   ]
  },
  {
   "cell_type": "code",
   "execution_count": null,
   "id": "145d7b4d-008b-424e-9e0e-c1f129054939",
   "metadata": {},
   "outputs": [],
   "source": []
  }
 ],
 "metadata": {
  "kernelspec": {
   "display_name": "Python 3 (ipykernel)",
   "language": "python",
   "name": "python3"
  },
  "language_info": {
   "codemirror_mode": {
    "name": "ipython",
    "version": 3
   },
   "file_extension": ".py",
   "mimetype": "text/x-python",
   "name": "python",
   "nbconvert_exporter": "python",
   "pygments_lexer": "ipython3",
   "version": "3.7.12"
  }
 },
 "nbformat": 4,
 "nbformat_minor": 5
}
