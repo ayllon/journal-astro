{
 "cells": [
  {
   "cell_type": "code",
   "execution_count": 2,
   "id": "f5f68241-02d1-4220-95a0-b87d5e081e01",
   "metadata": {},
   "outputs": [
    {
     "name": "stderr",
     "output_type": "stream",
     "text": [
      "WARNING : using environment variable BINARY_TAG for binary_tag\n",
      "WARNING : x86_64-fc34-gcc112-dbg is not in the list of distributed configurations\n"
     ]
    }
   ],
   "source": [
    "import Euclid\n",
    "import numpy as np\n",
    "from astropy.table import Table\n",
    "from tqdm.notebook import tqdm\n",
    "\n",
    "%erun PHZ_NNPZ\n",
    "from nnpz.reference_sample.ReferenceSample import ReferenceSample"
   ]
  },
  {
   "cell_type": "code",
   "execution_count": 3,
   "id": "e5abc5b2-7519-4a0f-8628-412b4eadca67",
   "metadata": {},
   "outputs": [
    {
     "name": "stderr",
     "output_type": "stream",
     "text": [
      "INFO    : Found provider PdzProvider\n",
      "2021-12-02T11:59:22CET ReferenceSample  INFO : Found provider PdzProvider\n",
      "INFO    : Found provider SedProvider\n",
      "2021-12-02T11:59:22CET ReferenceSample  INFO : Found provider SedProvider\n"
     ]
    }
   ],
   "source": [
    "ref = ReferenceSample('/home/aalvarez/Work/Data/SC8/RefSample2/reference_sample.dir/')\n",
    "cat = Table.read('/home/aalvarez/Work/Data/SC8/RefSample2/phz_catalog.fits')"
   ]
  },
  {
   "cell_type": "code",
   "execution_count": 4,
   "id": "ab3731c3-ce87-488b-b0d4-1509ec7435c5",
   "metadata": {},
   "outputs": [
    {
     "data": {
      "application/vnd.jupyter.widget-view+json": {
       "model_id": "69bbcc971e1c4d5099c53e2626f3c575",
       "version_major": 2,
       "version_minor": 0
      },
      "text/plain": [
       "  0%|          | 0/603009 [00:00<?, ?it/s]"
      ]
     },
     "metadata": {},
     "output_type": "display_data"
    }
   ],
   "source": [
    "for row in tqdm(cat):\n",
    "    pdz = ref.getPdzData(row['ID'])\n",
    "    assert np.isclose(pdz[:,1], row['Z-1D-PDF']).all(), row['ID']"
   ]
  },
  {
   "cell_type": "code",
   "execution_count": 5,
   "id": "ef83cb19-6fd4-46ee-9f1a-8aa72da9c577",
   "metadata": {},
   "outputs": [
    {
     "name": "stderr",
     "output_type": "stream",
     "text": [
      "WARN    : Index for provider \"pdz\" does not follow the physical layout for file 1\n",
      "2021-12-02T12:12:41CET nnpz.reference_sample.IndexProvider  WARN : Index for provider \"pdz\" does not follow the physical layout for file 1\n",
      "WARN    : Index for provider \"pdz\" does not follow the physical layout for file 2\n",
      "2021-12-02T12:12:41CET nnpz.reference_sample.IndexProvider  WARN : Index for provider \"pdz\" does not follow the physical layout for file 2\n",
      "WARN    : Sorting index based on ['sed_file', 'sed_offset', 'pdz_file', 'pdz_offset']\n",
      "2021-12-02T12:12:41CET nnpz.reference_sample.IndexProvider  WARN : Sorting index based on ['sed_file', 'sed_offset', 'pdz_file', 'pdz_offset']\n",
      "INFO    : Found provider PdzProvider\n",
      "2021-12-02T12:12:42CET ReferenceSample  INFO : Found provider PdzProvider\n",
      "INFO    : Found provider SedProvider\n",
      "2021-12-02T12:12:42CET ReferenceSample  INFO : Found provider SedProvider\n"
     ]
    }
   ],
   "source": [
    "orig_ref = ReferenceSample('/home/aalvarez/Work/Data/SC8/PHZ_Calibration_28jan21/MergeReferenceSampleDirs/reference_sample_dir.dir/')"
   ]
  },
  {
   "cell_type": "code",
   "execution_count": 6,
   "id": "5629f2d5-1a6c-4a3f-b497-278f3ec33fc6",
   "metadata": {},
   "outputs": [
    {
     "data": {
      "application/vnd.jupyter.widget-view+json": {
       "model_id": "f1960c67d04d427ba7f72cda08cea0ad",
       "version_major": 2,
       "version_minor": 0
      },
      "text/plain": [
       "  0%|          | 0/603009 [00:00<?, ?it/s]"
      ]
     },
     "metadata": {},
     "output_type": "display_data"
    }
   ],
   "source": [
    "for row in tqdm(cat):\n",
    "    sed = ref.getSedData(row['ID'])\n",
    "    orig_sed = orig_ref.getSedData(row['ID'])\n",
    "    assert np.isclose(sed, orig_sed).all(), row['ID']"
   ]
  },
  {
   "cell_type": "code",
   "execution_count": null,
   "id": "5557c099-9ea7-4aaa-9e08-8268ba771b74",
   "metadata": {},
   "outputs": [],
   "source": []
  }
 ],
 "metadata": {
  "kernelspec": {
   "display_name": "Python 3 (ipykernel)",
   "language": "python",
   "name": "python3"
  },
  "language_info": {
   "codemirror_mode": {
    "name": "ipython",
    "version": 3
   },
   "file_extension": ".py",
   "mimetype": "text/x-python",
   "name": "python",
   "nbconvert_exporter": "python",
   "pygments_lexer": "ipython3",
   "version": "3.7.12"
  }
 },
 "nbformat": 4,
 "nbformat_minor": 5
}
