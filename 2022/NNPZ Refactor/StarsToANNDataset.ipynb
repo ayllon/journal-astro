{
 "cells": [
  {
   "cell_type": "code",
   "execution_count": 1,
   "id": "59c6f9ec-4988-460e-9375-11ae379635d6",
   "metadata": {},
   "outputs": [],
   "source": [
    "import numpy as np\n",
    "from astropy.table import Table, MaskedColumn, join\n",
    "from tqdm.notebook import tqdm\n",
    "import h5py\n",
    "from scipy.spatial.distance import cdist\n",
    "import matplotlib.pyplot as plt"
   ]
  },
  {
   "cell_type": "code",
   "execution_count": 2,
   "id": "168b9baf-9e1a-482d-b1f0-805899b1032c",
   "metadata": {},
   "outputs": [],
   "source": [
    "prod = '/home/aalvarez/Work/Data/SC8/PHZ_Prod_18oct2021/'"
   ]
  },
  {
   "cell_type": "code",
   "execution_count": 3,
   "id": "345c644a-42ca-4ce6-a3fc-b31ec31dea03",
   "metadata": {},
   "outputs": [
    {
     "data": {
      "text/plain": [
       "497533"
      ]
     },
     "execution_count": 3,
     "metadata": {},
     "output_type": "execute_result"
    }
   ],
   "source": [
    "ref = Table.read(os.path.join(prod, 'ProductionInputEcdmHandler/galaxy_sed_reference_sample_dir.dir/phot.fits'), hdu=1)\n",
    "len(ref)"
   ]
  },
  {
   "cell_type": "code",
   "execution_count": 14,
   "id": "f4d89b99-1c0c-4369-8005-e4954aee2fee",
   "metadata": {},
   "outputs": [
    {
     "data": {
      "text/plain": [
       "92047"
      ]
     },
     "execution_count": 14,
     "metadata": {},
     "output_type": "execute_result"
    }
   ],
   "source": [
    "target = Table.read(os.path.join(prod, 'GalaxyFilteringTask/galaxy_catalog.fits'))\n",
    "len(target)"
   ]
  },
  {
   "cell_type": "code",
   "execution_count": 15,
   "id": "5ef5278c-5ba5-4f74-8ae3-0ab7c4149b25",
   "metadata": {},
   "outputs": [],
   "source": [
    "truth = Table.read(os.path.join(prod, 'NnpzStarSed/bruteforce.fits'))"
   ]
  },
  {
   "cell_type": "code",
   "execution_count": 16,
   "id": "ba4b0930-2ec7-4a67-bb9c-de2f6281bfcd",
   "metadata": {},
   "outputs": [],
   "source": [
    "config = dict()\n",
    "exec(open(os.path.join(prod, 'data/nnpz_star_sed.conf')).read(), config)"
   ]
  },
  {
   "cell_type": "code",
   "execution_count": 17,
   "id": "2e7b344e-8e18-49f2-aadc-19a77d5949a5",
   "metadata": {},
   "outputs": [
    {
     "name": "stdout",
     "output_type": "stream",
     "text": [
      "9 ['lsst/u', 'lsst/g', 'lsst/r', 'lsst/i', 'lsst/z', 'euclid/VIS', 'euclid/Y', 'euclid/J', 'euclid/H']\n"
     ]
    }
   ],
   "source": [
    "# Missing bands!\n",
    "ref_filters = config['reference_sample_phot_filters']\n",
    "target_filters = config['target_catalog_filters']\n",
    "\n",
    "ref_selected = []\n",
    "target_selected = []\n",
    "for rname, (tname, terr) in zip(ref_filters, target_filters):\n",
    "    if not isinstance(target[tname], MaskedColumn) or not target[tname].mask.all():\n",
    "        ref_selected.append(rname)\n",
    "        target_selected.append((tname, terr))\n",
    "print(len(ref_selected), ref_selected)"
   ]
  },
  {
   "cell_type": "code",
   "execution_count": 18,
   "id": "41036829-5793-426c-b6b0-da2b551fa8ab",
   "metadata": {},
   "outputs": [
    {
     "data": {
      "text/plain": [
       "100"
      ]
     },
     "execution_count": 18,
     "metadata": {},
     "output_type": "execute_result"
    }
   ],
   "source": [
    "joint = join(truth, target, 'OBJECT_ID')\n",
    "len(joint)"
   ]
  },
  {
   "cell_type": "markdown",
   "id": "c270a466-28ce-4364-95a6-0eb039396b18",
   "metadata": {},
   "source": [
    "# Create a similar output"
   ]
  },
  {
   "cell_type": "code",
   "execution_count": 19,
   "id": "22e8579e-0da4-434e-80e3-9c39cb5fc70c",
   "metadata": {},
   "outputs": [],
   "source": [
    "ref_photo = np.zeros((len(ref), len(ref_selected), 2), dtype=np.float32)\n",
    "for i, rname in enumerate(ref_selected):\n",
    "    ref_photo[:, i, 0] = ref[rname]"
   ]
  },
  {
   "cell_type": "code",
   "execution_count": 20,
   "id": "dc07211f-483e-41d1-97b2-2e53158b7b29",
   "metadata": {},
   "outputs": [],
   "source": [
    "target_photo = np.zeros((len(joint), len(target_selected), 2), dtype=np.float32)\n",
    "for i, (tname, terr) in enumerate(target_selected):\n",
    "    target_photo[:,i,0] = joint[tname]\n",
    "    target_photo[:,i,1] = joint[terr]"
   ]
  },
  {
   "cell_type": "code",
   "execution_count": 21,
   "id": "102769d4-5606-4c86-8ce3-bb75375f6f77",
   "metadata": {},
   "outputs": [
    {
     "data": {
      "application/vnd.jupyter.widget-view+json": {
       "model_id": "ea450f9736f14126897ed03ab638760e",
       "version_major": 2,
       "version_minor": 0
      },
      "text/plain": [
       "  0%|          | 0/100 [00:00<?, ?it/s]"
      ]
     },
     "metadata": {},
     "output_type": "display_data"
    }
   ],
   "source": [
    "distances = []\n",
    "neighbors = []\n",
    "for tp, nn, ns, nw in tqdm(zip(target_photo, joint['NEIGHBOR_IDS'], joint['NEIGHBOR_SCALING'], joint['NEIGHBOR_WEIGHTS']), total=len(target_photo)):\n",
    "    # The test will check the index, not the ID\n",
    "    neighbors.append(np.argwhere(np.in1d(ref['ID'], nn))[:,0])\n",
    "    rmask = np.in1d(ref['ID'], nn)\n",
    "    rp = ref_photo[rmask]\n",
    "    distances.append(1/nw)\n",
    "neighbors = np.asarray(neighbors, dtype=int)\n",
    "distances = np.asarray(distances, dtype=np.float32)"
   ]
  },
  {
   "cell_type": "code",
   "execution_count": 22,
   "id": "af0bcb6d-799c-4e68-a357-2eb8d1f1a725",
   "metadata": {},
   "outputs": [],
   "source": [
    "with h5py.File('/home/aalvarez/Tools/ann-benchmarks/data/sc8-stars.hdf5', 'w') as out:\n",
    "    out.attrs['distance'] = 'chi2-scaled'\n",
    "    out.create_dataset('distances', distances.shape, distances.dtype)[:] = distances\n",
    "    out.create_dataset('neighbors', neighbors.shape, neighbors.dtype)[:] = neighbors\n",
    "    out.create_dataset('train', ref_photo.shape, ref_photo.dtype)[:] = ref_photo\n",
    "    out.create_dataset('test', target_photo.shape, target_photo.dtype)[:] = target_photo"
   ]
  },
  {
   "cell_type": "code",
   "execution_count": null,
   "id": "5117ad82-6162-4209-960f-e2b06bcacddf",
   "metadata": {},
   "outputs": [],
   "source": []
  },
  {
   "cell_type": "code",
   "execution_count": null,
   "id": "a436aaa3-c62c-44de-a3a8-25d0e3f76e2e",
   "metadata": {},
   "outputs": [],
   "source": []
  }
 ],
 "metadata": {
  "kernelspec": {
   "display_name": "Python 3 (ipykernel)",
   "language": "python",
   "name": "python3"
  },
  "language_info": {
   "codemirror_mode": {
    "name": "ipython",
    "version": 3
   },
   "file_extension": ".py",
   "mimetype": "text/x-python",
   "name": "python",
   "nbconvert_exporter": "python",
   "pygments_lexer": "ipython3",
   "version": "3.7.12"
  }
 },
 "nbformat": 4,
 "nbformat_minor": 5
}
