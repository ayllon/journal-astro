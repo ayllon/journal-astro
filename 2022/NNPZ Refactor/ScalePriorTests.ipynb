{
 "cells": [
  {
   "cell_type": "code",
   "execution_count": 39,
   "id": "f61ce346-3b0e-413f-9b4d-a23e25e2acbe",
   "metadata": {},
   "outputs": [],
   "source": [
    "%matplotlib inline\n",
    "import numpy as np\n",
    "from scipy.interpolate import UnivariateSpline\n",
    "from scipy.stats import norm\n",
    "import matplotlib.pyplot as plt\n",
    "from astropy.table import Table\n",
    "import abc\n",
    "\n",
    "plt.style.use('seaborn')\n",
    "plt.style.use('seaborn-notebook')"
   ]
  },
  {
   "cell_type": "code",
   "execution_count": 225,
   "id": "f84b17f1-e3e7-460f-b2b4-0f8ea1706b9a",
   "metadata": {},
   "outputs": [],
   "source": [
    "t_nn = Table.read('/home/aalvarez/Work/Data/SC8/PHZ_Prod_18oct2021/neighbors.fits')\n",
    "t_target = Table.read('/home/aalvarez/Work/Data/SC8/PHZ_Prod_18oct2021/GalaxyFilteringTask/star_catalog.fits')\n",
    "t_ref = Table.read('/home/aalvarez/Work/Data/SC8/PHZ_Prod_18oct2021/ProductionInputEcdmHandler/star_reference_sample_dir.dir/phot.fits', hdu=1)\n",
    "\n",
    "config = dict()\n",
    "with open('/home/aalvarez/Work/Data/SC8/PHZ_Prod_18oct2021/data/nnpz_star_sed_07Jun2021-094516.conf', 'r') as fd:\n",
    "    exec(fd.read(), config)\n",
    "   \n",
    "target_photo = np.asarray([(t_target[0][f], t_target[0][e]) for (f, e) in config['target_catalog_filters']])\n",
    "ref_photo = np.asarray([t_ref[t_nn[0]['NEIGHBOR_INDEX'][0]][f] for f in config['reference_sample_phot_filters']])\n",
    "ref_photo = np.column_stack([ref_photo, np.zeros_like(ref_photo)])\n",
    "\n",
    "assert target_photo.shape == ref_photo.shape, (target_photo.shape, ref_photo.shape)"
   ]
  },
  {
   "cell_type": "code",
   "execution_count": 226,
   "id": "92e3d470-36b6-4279-a942-8bcac2ae9b74",
   "metadata": {},
   "outputs": [
    {
     "data": {
      "text/plain": [
       "array([0.06105111, 0.43683136, 1.0020354 , 1.4098276 , 1.6121303 ,\n",
       "       1.2250347 , 1.8081652 , 1.8983316 , 1.9702266 ], dtype=float32)"
      ]
     },
     "execution_count": 226,
     "metadata": {},
     "output_type": "execute_result"
    }
   ],
   "source": [
    "ref_photo[:,0]"
   ]
  },
  {
   "cell_type": "code",
   "execution_count": 227,
   "id": "a286929b-fe13-44aa-9d49-38a66cb8a41c",
   "metadata": {},
   "outputs": [
    {
     "data": {
      "text/plain": [
       "array([0.28606794, 1.25927929, 2.99065662, 4.52617146, 5.61709861,\n",
       "       3.89831762, 6.53332376, 6.34905922, 6.5748412 ])"
      ]
     },
     "execution_count": 227,
     "metadata": {},
     "output_type": "execute_result"
    }
   ],
   "source": [
    "target_photo[:,0]"
   ]
  },
  {
   "cell_type": "code",
   "execution_count": 247,
   "id": "44e38ecc-a4f8-4316-b784-30a908f05b6b",
   "metadata": {},
   "outputs": [
    {
     "data": {
      "text/plain": [
       "array([3.4576743, 4.0636053, 3.354015 , 3.9699976, 3.6454432, 4.1841173,\n",
       "       4.2458177, 4.050698 , 3.4260645, 4.1174536, 4.017645 , 3.3707922,\n",
       "       4.0982428, 3.3333573, 4.204324 , 4.0278754, 3.3904085, 4.1567154,\n",
       "       4.0611973, 4.118459 , 4.19831  , 4.021677 , 3.4540596, 3.4060113,\n",
       "       3.3427324, 3.9920332, 4.1659794, 4.135689 , 3.8232434, 4.0722957],\n",
       "      dtype=float32)"
      ]
     },
     "execution_count": 247,
     "metadata": {},
     "output_type": "execute_result"
    }
   ],
   "source": [
    "t_nn['NEIGHBOR_SCALING'][0]"
   ]
  },
  {
   "cell_type": "code",
   "execution_count": 229,
   "id": "137c24fc-0a22-4db8-af4d-c49bcde39119",
   "metadata": {},
   "outputs": [],
   "source": [
    "class Prior(abc.ABC):\n",
    "    @abc.abstractmethod\n",
    "    def __call__(self, a):\n",
    "        pass\n",
    "    \n",
    "    @abc.abstractmethod\n",
    "    def derivative(self):\n",
    "        pass\n",
    "    \n",
    "    @abc.abstractmethod\n",
    "    def range(self):\n",
    "        pass\n",
    "\n",
    "class Uniform(Prior):\n",
    "    def __call__(self, a):\n",
    "        return np.ones_like(a)\n",
    "    \n",
    "    def derivative(self):\n",
    "        return None\n",
    "    \n",
    "    def range(self):\n",
    "        return -np.inf, np.inf\n",
    "\n",
    "class Delta(Prior):\n",
    "    def __init__(self, v):\n",
    "        self._v = v\n",
    "        \n",
    "    def __call__(self, a):\n",
    "        a = np.asarray(a)\n",
    "        p = np.zeros_like(a)\n",
    "        p[a==self._v] = 1.\n",
    "        return p\n",
    "    \n",
    "    def derivative(self):\n",
    "        def d(a):\n",
    "            a = np.asarray(a)\n",
    "            v = np.zeros_like(a)\n",
    "            v[a==self._v] = np.inf\n",
    "            return v\n",
    "        return d\n",
    "    \n",
    "    def range(self):\n",
    "        return self._v, self._v\n",
    "\n",
    "class Step(Prior):\n",
    "    def __init__(self, mn, mx):\n",
    "        self._min, self._max = mn, mx\n",
    "        \n",
    "    def __call__(self, a):\n",
    "        a = np.asarray(a)\n",
    "        p = np.zeros_like(a)\n",
    "        p[(a>=self._min) & (a<=self._max)] = 1.\n",
    "        return p\n",
    "    \n",
    "    def derivative(self):\n",
    "        def d(a):\n",
    "            a = np.asarray(a)\n",
    "            v = np.zeros_like(a)\n",
    "            v[(a==self._min) | (a ==self._max)] = np.inf\n",
    "            return v\n",
    "        return d\n",
    "    \n",
    "    def range(self):\n",
    "        return self._min, self._max\n",
    "\n",
    "class FromData(Prior):\n",
    "    def __init__(self, x, y):\n",
    "        self._f = UnivariateSpline(x, y, s=0, ext='zeros')\n",
    "        rx = x[y > 0]\n",
    "        self._min, self._max = rx.min(), rx.max()\n",
    "        \n",
    "    def __call__(self, a):\n",
    "        return self._f(a)\n",
    "    \n",
    "    def derivative(self):\n",
    "        return self._f.derivative()\n",
    "    \n",
    "    def range(self):\n",
    "        return self._min, self._max"
   ]
  },
  {
   "cell_type": "code",
   "execution_count": 230,
   "id": "74658502-01ed-45a9-b1ce-beb01964e7ec",
   "metadata": {},
   "outputs": [],
   "source": [
    "x1 = np.linspace(0, 10, 100)\n",
    "priors = dict(\n",
    "    uniform = Uniform(),\n",
    "    delta2 = Delta(2.),\n",
    "    step = Step(0.5, 3.),\n",
    "    from_data = FromData(x1, norm(5).pdf(x1))\n",
    ")"
   ]
  },
  {
   "cell_type": "code",
   "execution_count": 231,
   "id": "c70b3194-4581-4f8f-94a0-9c7e25fd8e7f",
   "metadata": {},
   "outputs": [
    {
     "data": {
      "image/png": "[encoded data removed]",
      "text/plain": [
       "<Figure size 576x396 with 2 Axes>"
      ]
     },
     "metadata": {},
     "output_type": "display_data"
    }
   ],
   "source": [
    "x = np.linspace(0., 10., 1001)\n",
    "\n",
    "fig, axes = plt.subplots(ncols=2)\n",
    "for k, p in priors.items():\n",
    "    axes[0].plot(x, p(x), label=k)\n",
    "    d = p.derivative()\n",
    "    if d:\n",
    "        if k.startswith('delta'):\n",
    "            axes[1].scatter(x, d(x), label=k)\n",
    "        else:\n",
    "            axes[1].plot(x, d(x), label=k)\n",
    "        \n",
    "axes[0].legend()\n",
    "axes[1].legend()\n",
    "\n",
    "plt.show()"
   ]
  },
  {
   "cell_type": "code",
   "execution_count": 232,
   "id": "7df56ecb-ef26-4d80-af46-938f50837e4e",
   "metadata": {},
   "outputs": [],
   "source": [
    "class Chi2:\n",
    "    def __init__(self, ref, target):\n",
    "        self._ref, self._target = ref, target\n",
    "        \n",
    "    def guess(self):\n",
    "        nom = self._ref[...,0] * self._target[...,0] / self._target[...,1] ** 2\n",
    "        den = self._ref[...,0] ** 2 / self._target[...,1] ** 2\n",
    "        return np.sum(nom) / np.sum(den)\n",
    "        \n",
    "    def __call__(self, a):\n",
    "        a = np.asarray(a)\n",
    "        nom = (self._ref[...,0] * a[..., np.newaxis] - self._target[...,0]) ** 2\n",
    "        den = (self._ref[...,1] * a[..., np.newaxis]) ** 2 + self._target[...,1] ** 2\n",
    "        return np.sum(nom / den, axis=-1)\n",
    "    \n",
    "    def derivative(self):\n",
    "        def d(a):\n",
    "            a = np.asarray(a)[...,np.newaxis]\n",
    "            rval = self._ref[...,0]\n",
    "            tval = self._target[...,0]\n",
    "            rerr = self._ref[...,1]\n",
    "            terr = self._target[...,1]\n",
    "            nom = 2 * (a * rval - tval) * (rerr * rerr * a * tval + rval * terr * terr)\n",
    "            den = rerr * rerr * a * a + terr * terr\n",
    "            den *= den\n",
    "            return np.sum(nom/ den, axis=-1)\n",
    "        return d"
   ]
  },
  {
   "cell_type": "code",
   "execution_count": 233,
   "id": "9c6aa571-77f2-457d-aaa4-245d618806ba",
   "metadata": {},
   "outputs": [],
   "source": [
    "chi2 = Chi2(ref_photo, target_photo)\n",
    "a_guess = chi2.guess()"
   ]
  },
  {
   "cell_type": "code",
   "execution_count": 234,
   "id": "62d10e95-d2e2-44fa-b472-4e787b88c357",
   "metadata": {},
   "outputs": [
    {
     "data": {
      "image/png": "[encoded data removed]",
      "text/plain": [
       "<Figure size 576x396 with 1 Axes>"
      ]
     },
     "metadata": {},
     "output_type": "display_data"
    }
   ],
   "source": [
    "plt.figure()\n",
    "plt.plot(x, chi2(x))\n",
    "plt.plot(x, chi2.derivative()(x))\n",
    "plt.yscale('symlog')\n",
    "plt.show()"
   ]
  },
  {
   "cell_type": "code",
   "execution_count": 235,
   "id": "c6781025-a080-4280-8126-77e977d2c39d",
   "metadata": {},
   "outputs": [],
   "source": [
    "# TO BE MINIMIZED\n",
    "class Chi2Prior:\n",
    "    def __init__(self, chi2, prior):\n",
    "        self._chi2, self._prior = chi2, prior\n",
    "        \n",
    "    def __call__(self, a):\n",
    "        return self._chi2(a) / 2 - np.log(self._prior(a))\n",
    "    \n",
    "    @property\n",
    "    def range(self):\n",
    "        return self._prior.range()\n",
    "    \n",
    "    def derivative(self):\n",
    "        pd = self._prior.derivative()\n",
    "        chi2d = self._chi2.derivative()\n",
    "        if pd is None:\n",
    "            return chi2d\n",
    "        return lambda a: chi2d(a) / 2 - 1 / self._prior(a) * pd(a)"
   ]
  },
  {
   "cell_type": "code",
   "execution_count": 236,
   "id": "9a198ea2-64de-41e7-b8fd-c0157a5fbbcf",
   "metadata": {},
   "outputs": [],
   "source": [
    "chi2_prior = {k: Chi2Prior(chi2, p) for k, p in priors.items()}"
   ]
  },
  {
   "cell_type": "code",
   "execution_count": 237,
   "id": "f9f41bbd-363b-4f16-98fb-d9a9549b6488",
   "metadata": {},
   "outputs": [
    {
     "name": "stderr",
     "output_type": "stream",
     "text": [
      "/opt/miniconda3/envs/phz/lib/python3.7/site-packages/ipykernel_launcher.py:7: RuntimeWarning: divide by zero encountered in log\n",
      "  import sys\n",
      "/opt/miniconda3/envs/phz/lib/python3.7/site-packages/ipykernel_launcher.py:18: RuntimeWarning: divide by zero encountered in true_divide\n",
      "/opt/miniconda3/envs/phz/lib/python3.7/site-packages/ipykernel_launcher.py:18: RuntimeWarning: invalid value encountered in multiply\n",
      "/opt/miniconda3/envs/phz/lib/python3.7/site-packages/ipykernel_launcher.py:18: RuntimeWarning: divide by zero encountered in true_divide\n",
      "/opt/miniconda3/envs/phz/lib/python3.7/site-packages/ipykernel_launcher.py:18: RuntimeWarning: invalid value encountered in multiply\n"
     ]
    },
    {
     "data": {
      "image/png": "[encoded data removed]",
      "text/plain": [
       "<Figure size 576x396 with 2 Axes>"
      ]
     },
     "metadata": {},
     "output_type": "display_data"
    }
   ],
   "source": [
    "fig, axes = plt.subplots(ncols=2, sharex=True)\n",
    "for k, cp in chi2_prior.items():\n",
    "    if k.startswith('delta'):\n",
    "        axes[0].scatter(x, cp(x), label=k)\n",
    "    else:\n",
    "        axes[0].plot(x, cp(x), label=k)\n",
    "        \n",
    "    d = cp.derivative()\n",
    "    if d:\n",
    "        if k.startswith('delta'):\n",
    "            axes[1].scatter(x, d(x), label=k)\n",
    "        else:\n",
    "            axes[1].plot(x, d(x), label=k)\n",
    "        \n",
    "axes[0].axvline(a_guess, label='Initial guess', linestyle=':', color='gray')\n",
    "axes[0].legend()\n",
    "axes[0].set_yscale('log')\n",
    "axes[1].axvline(a_guess, label='Initial guess', linestyle=':', color='gray')\n",
    "axes[1].set_yscale('symlog')\n",
    "axes[1].legend()\n",
    "plt.show()"
   ]
  },
  {
   "cell_type": "code",
   "execution_count": 238,
   "id": "9b202016-f9b1-47fc-9d78-77a193935112",
   "metadata": {},
   "outputs": [],
   "source": [
    "def secant(f, guess, mn, mx, maxiter, atol):\n",
    "    eps = 1e-4\n",
    "    x0 = guess * (1-eps)\n",
    "    x1 = guess * (1+eps)\n",
    "    for i in range(maxiter):\n",
    "        dx = f(x1) * (x1 - x0) / (f(x1) - f(x0))\n",
    "        if abs(dx) < atol:\n",
    "            break\n",
    "        guess = x1 - dx\n",
    "        if guess >= mx or guess <= mn:\n",
    "            break\n",
    "        x0, x1 = x1, guess\n",
    "    return guess"
   ]
  },
  {
   "cell_type": "code",
   "execution_count": 239,
   "id": "f69de796-52b9-4c0f-a8c1-bfc95e723548",
   "metadata": {},
   "outputs": [],
   "source": [
    "def resolve_scale(chi2p, guess, maxiter, atol):\n",
    "    d = chi2p.derivative()\n",
    "    xmin, xmax = chi2p.range\n",
    "    if np.isclose(xmin, xmax):\n",
    "        return xmin\n",
    "    guess = np.clip(guess, xmin+2e-4, xmax-2e-4)\n",
    "    return secant(d, guess, xmin, xmax, maxiter, atol)"
   ]
  },
  {
   "cell_type": "code",
   "execution_count": 240,
   "id": "cea36be7-d799-4a78-a611-65b52849aa11",
   "metadata": {},
   "outputs": [
    {
     "data": {
      "text/plain": [
       "3.166232911584521"
      ]
     },
     "execution_count": 240,
     "metadata": {},
     "output_type": "execute_result"
    }
   ],
   "source": [
    "a_guess"
   ]
  },
  {
   "cell_type": "code",
   "execution_count": 241,
   "id": "46f3fc57-9c5f-4760-b6ef-231615dae8ef",
   "metadata": {},
   "outputs": [
    {
     "data": {
      "text/plain": [
       "3.166232864086747"
      ]
     },
     "execution_count": 241,
     "metadata": {},
     "output_type": "execute_result"
    }
   ],
   "source": [
    "resolve_scale(chi2_prior['uniform'], a_guess, 100, 1e-8)"
   ]
  },
  {
   "cell_type": "code",
   "execution_count": 242,
   "id": "cf3c9132-20d2-4e89-adb1-c096a725d2e5",
   "metadata": {},
   "outputs": [
    {
     "data": {
      "text/plain": [
       "(26352.01350505848, 26334.916234663982, 26380.036226831802)"
      ]
     },
     "execution_count": 242,
     "metadata": {},
     "output_type": "execute_result"
    }
   ],
   "source": [
    "chi2_prior['uniform'](0.8362419401272728), chi2_prior['uniform'](0.837),  chi2_prior['uniform'](0.835)"
   ]
  },
  {
   "cell_type": "code",
   "execution_count": 243,
   "id": "2113b6a5-4f45-4cbb-9334-53d9b2570e00",
   "metadata": {},
   "outputs": [
    {
     "data": {
      "text/plain": [
       "2.0"
      ]
     },
     "execution_count": 243,
     "metadata": {},
     "output_type": "execute_result"
    }
   ],
   "source": [
    "resolve_scale(chi2_prior['delta2'], a_guess, 100, 1e-8)"
   ]
  },
  {
   "cell_type": "code",
   "execution_count": 244,
   "id": "4392ca6d-dfb3-46d6-a522-271f3b125756",
   "metadata": {},
   "outputs": [
    {
     "data": {
      "text/plain": [
       "-inf"
      ]
     },
     "execution_count": 244,
     "metadata": {},
     "output_type": "execute_result"
    }
   ],
   "source": [
    "chi2_prior['delta2'].derivative()(2.0)"
   ]
  },
  {
   "cell_type": "code",
   "execution_count": 245,
   "id": "dddc0cb1-cbd4-43c4-88c3-ae662e0092bd",
   "metadata": {},
   "outputs": [
    {
     "data": {
      "text/plain": [
       "3.1664222584284563"
      ]
     },
     "execution_count": 245,
     "metadata": {},
     "output_type": "execute_result"
    }
   ],
   "source": [
    "resolve_scale(chi2_prior['from_data'], a_guess, 100, 1e-8)"
   ]
  },
  {
   "cell_type": "code",
   "execution_count": 246,
   "id": "3ef0970a-f208-4610-baac-8ef4257dff74",
   "metadata": {},
   "outputs": [
    {
     "name": "stderr",
     "output_type": "stream",
     "text": [
      "/opt/miniconda3/envs/phz/lib/python3.7/site-packages/ipykernel_launcher.py:18: RuntimeWarning: divide by zero encountered in true_divide\n",
      "/opt/miniconda3/envs/phz/lib/python3.7/site-packages/ipykernel_launcher.py:18: RuntimeWarning: invalid value encountered in double_scalars\n"
     ]
    },
    {
     "data": {
      "text/plain": [
       "nan"
      ]
     },
     "execution_count": 246,
     "metadata": {},
     "output_type": "execute_result"
    }
   ],
   "source": [
    "resolve_scale(chi2_prior['step'], a_guess, 100, 1e-8)"
   ]
  },
  {
   "cell_type": "code",
   "execution_count": null,
   "id": "8b2699a7-bb8e-43e5-9178-a8e5276f0e64",
   "metadata": {},
   "outputs": [],
   "source": []
  }
 ],
 "metadata": {
  "kernelspec": {
   "display_name": "Python 3 (ipykernel)",
   "language": "python",
   "name": "python3"
  },
  "language_info": {
   "codemirror_mode": {
    "name": "ipython",
    "version": 3
   },
   "file_extension": ".py",
   "mimetype": "text/x-python",
   "name": "python",
   "nbconvert_exporter": "python",
   "pygments_lexer": "ipython3",
   "version": "3.7.12"
  }
 },
 "nbformat": 4,
 "nbformat_minor": 5
}
