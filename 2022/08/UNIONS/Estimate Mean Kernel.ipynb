{
 "cells": [
  {
   "cell_type": "code",
   "execution_count": 1,
   "id": "741155f3-97c3-4d55-96f7-64e958f81f3e",
   "metadata": {},
   "outputs": [
    {
     "name": "stderr",
     "output_type": "stream",
     "text": [
      "WARNING : using environment variable BINARY_TAG for binary_tag\n",
      "WARNING : x86_64-fc35-gcc113-dbg is not in the list of distributed configurations\n"
     ]
    }
   ],
   "source": [
    "import matplotlib.pyplot as plt\n",
    "import numpy as np\n",
    "from astropy.table import Table, join, vstack\n",
    "import Euclid\n",
    "from scipy.stats import wasserstein_distance\n",
    "from scipy.signal import deconvolve\n",
    "from scipy.fft import fft, ifft\n",
    "from scipy.optimize import curve_fit\n",
    "from tqdm.auto import tqdm\n",
    "\n",
    "plt.style.use('seaborn')\n",
    "plt.style.use('seaborn-notebook')"
   ]
  },
  {
   "cell_type": "code",
   "execution_count": 5,
   "id": "8967eef2-23ab-4fe9-96e6-80795c45f2f2",
   "metadata": {},
   "outputs": [
    {
     "name": "stdout",
     "output_type": "stream",
     "text": [
      "86008 99770\n"
     ]
    }
   ],
   "source": [
    "nnpz = Table.read('/home/aalvarez/Work/Data/PV/Prod/lsst/75769/NnpzUnions/output_file.fits', hdu=1)\n",
    "len(nnpz)\n",
    "mask = nnpz['FLAGS'] == 0\n",
    "print(np.sum(mask), len(mask))\n",
    "nnpz = nnpz[mask]"
   ]
  },
  {
   "cell_type": "code",
   "execution_count": 6,
   "id": "4a285f4d-ad5a-4550-b40b-e3344fa8f6b2",
   "metadata": {},
   "outputs": [],
   "source": [
    "pdz_bins = Table.read('/home/aalvarez/Work/Data/PV/Prod/lsst/75769/NnpzUnions/output_file.fits', hdu=2)\n",
    "pdz_bins = pdz_bins['BINS_PDF']"
   ]
  },
  {
   "cell_type": "code",
   "execution_count": 7,
   "id": "a9caa9c0-b313-40db-a4b5-d7730ba76825",
   "metadata": {},
   "outputs": [
    {
     "data": {
      "text/plain": [
       "99770"
      ]
     },
     "execution_count": 7,
     "metadata": {},
     "output_type": "execute_result"
    }
   ],
   "source": [
    "phosphoros = Table.read('/home/aalvarez/Work/Data/PV/Calib/unions_phosphoros.fits', hdu=1)\n",
    "phosphoros.rename_column('ID', 'OBJECT_ID')\n",
    "len(phosphoros)"
   ]
  },
  {
   "cell_type": "code",
   "execution_count": 8,
   "id": "a88997a3-caa0-4b51-951b-74048d4386eb",
   "metadata": {},
   "outputs": [
    {
     "data": {
      "text/plain": [
       "86008"
      ]
     },
     "execution_count": 8,
     "metadata": {},
     "output_type": "execute_result"
    }
   ],
   "source": [
    "cross = join(nnpz, phosphoros, 'OBJECT_ID', table_names=['nnpz', 'pho'])\n",
    "len(cross)"
   ]
  },
  {
   "cell_type": "code",
   "execution_count": 9,
   "id": "34535ea2-3ba4-4a97-9e32-9e2fbd32cf63",
   "metadata": {},
   "outputs": [],
   "source": [
    "all_idx = np.arange(len(cross))\n",
    "np.random.shuffle(all_idx)\n",
    "cut = int(len(cross) * 0.6)\n",
    "training_idx = all_idx[:cut]\n",
    "testing_idx = all_idx[cut:]"
   ]
  },
  {
   "cell_type": "code",
   "execution_count": 10,
   "id": "3ef7c3e9-579e-472c-ad01-dd6e809651e1",
   "metadata": {},
   "outputs": [
    {
     "data": {
      "application/vnd.jupyter.widget-view+json": {
       "model_id": "fa81673a440e4576b774e4cffc1a83df",
       "version_major": 2,
       "version_minor": 0
      },
      "text/plain": [
       "  0%|          | 0/51604 [00:00<?, ?it/s]"
      ]
     },
     "metadata": {},
     "output_type": "display_data"
    }
   ],
   "source": [
    "mean_kernel = np.zeros_like(pdz_bins)\n",
    "count = 0\n",
    "for row in tqdm(cross[training_idx]):\n",
    "    in_pdz = fft(row['REDSHIFT_PDF'])\n",
    "    out_pdz = fft(row['Z-1D-PDF'])\n",
    "    k = np.roll(np.real(ifft(out_pdz/in_pdz)), 300)\n",
    "    k /= np.sum(k)\n",
    "    if all(np.isfinite(k)):\n",
    "        mean_kernel += k\n",
    "        count += 1\n",
    "mean_kernel /= count"
   ]
  },
  {
   "cell_type": "code",
   "execution_count": 11,
   "id": "27c62535-67cc-4348-a2d7-ad9d61f7d7aa",
   "metadata": {},
   "outputs": [],
   "source": [
    "def gauss(x, *p):\n",
    "    A, mu, sigma = p\n",
    "    return A*np.exp(-(x-mu)**2/(2.*sigma**2))\n",
    "\n",
    "# p0 is the initial guess for the fitting coefficients (A, mu and sigma above)\n",
    "p0 = [mean_kernel.max(), np.average(pdz_bins, weights=mean_kernel), 0.2]\n",
    "\n",
    "coeff, var_matrix = curve_fit(gauss, pdz_bins, mean_kernel, p0=p0)"
   ]
  },
  {
   "cell_type": "code",
   "execution_count": 12,
   "id": "411bb681-d045-4ceb-b03c-289be9f6a3a3",
   "metadata": {},
   "outputs": [
    {
     "data": {
      "text/plain": [
       "([0.09727787, 3.0890234, 0.2], array([0.05939276, 3.00876835, 0.05750241]))"
      ]
     },
     "execution_count": 12,
     "metadata": {},
     "output_type": "execute_result"
    }
   ],
   "source": [
    "p0, coeff"
   ]
  },
  {
   "cell_type": "code",
   "execution_count": 13,
   "id": "e62e0d25-9f38-4eef-b53d-e7beb63981c6",
   "metadata": {},
   "outputs": [
    {
     "data": {
      "image/png": "[encoded data removed]",
      "text/plain": [
       "<Figure size 432x288 with 1 Axes>"
      ]
     },
     "metadata": {
      "needs_background": "light"
     },
     "output_type": "display_data"
    }
   ],
   "source": [
    "plt.figure()\n",
    "plt.plot(pdz_bins, mean_kernel)\n",
    "plt.plot(pdz_bins, gauss(pdz_bins, *coeff), label=f'Fitted mean kernel ($\\\\sigma = ${coeff[2]:.4})')\n",
    "plt.legend()\n",
    "plt.savefig('/home/aalvarez/Downloads/unions_mean_kernel.png')"
   ]
  },
  {
   "cell_type": "code",
   "execution_count": 14,
   "id": "8ea5b959-0ca6-4105-97f7-26a3dd67ff52",
   "metadata": {},
   "outputs": [],
   "source": [
    "np.save('testing_idx.npy', testing_idx)"
   ]
  },
  {
   "cell_type": "code",
   "execution_count": null,
   "id": "8bfe95c0-ceb2-40f3-9725-6b458bfd1be8",
   "metadata": {},
   "outputs": [],
   "source": []
  }
 ],
 "metadata": {
  "kernelspec": {
   "display_name": "Python 3 (ipykernel)",
   "language": "python",
   "name": "python3"
  },
  "language_info": {
   "codemirror_mode": {
    "name": "ipython",
    "version": 3
   },
   "file_extension": ".py",
   "mimetype": "text/x-python",
   "name": "python",
   "nbconvert_exporter": "python",
   "pygments_lexer": "ipython3",
   "version": "3.10.5"
  }
 },
 "nbformat": 4,
 "nbformat_minor": 5
}
