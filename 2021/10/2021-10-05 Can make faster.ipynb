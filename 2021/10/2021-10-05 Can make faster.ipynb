{
 "cells": [
  {
   "cell_type": "code",
   "execution_count": 1,
   "id": "af0f0131-8dcc-46cf-8113-382fd803aa20",
   "metadata": {},
   "outputs": [],
   "source": [
    "import numpy as np"
   ]
  },
  {
   "cell_type": "code",
   "execution_count": 2,
   "id": "e81462a2-6553-4bc6-9da7-2afca35b15f9",
   "metadata": {},
   "outputs": [],
   "source": [
    "class SersicModelEvaluator:\n",
    "    \n",
    "    def __init__(self, i0, k, n):\n",
    "        self.i0 = i0\n",
    "        self.k = k\n",
    "        self.n = n\n",
    "    \n",
    "    def __call__(self, x, y):\n",
    "        r_sqr = x*x + y*y\n",
    "        r = np.sqrt(r_sqr)\n",
    "        return self.i0 * np.exp(-self.k * r ** (1. / self.n))"
   ]
  },
  {
   "cell_type": "code",
   "execution_count": 54,
   "id": "c7be7447-395a-489f-9925-00cc6421245d",
   "metadata": {},
   "outputs": [],
   "source": [
    "class TestEval:\n",
    "    \n",
    "    def __init__(self, i0, k, n):\n",
    "        self.i0 = i0\n",
    "        self.mk = -k\n",
    "        self.inv_n = 1. / n\n",
    "    \n",
    "    def __call__(self, x, y):\n",
    "        r_sqr = x*x + y*y\n",
    "        r = np.sqrt(r_sqr)\n",
    "        return self.i0 * np.exp(self.mk * (r ** self.inv_n))"
   ]
  },
  {
   "cell_type": "code",
   "execution_count": 55,
   "id": "dd4c8720-dfd4-4f46-becb-b2d0a6db5261",
   "metadata": {},
   "outputs": [],
   "source": [
    "xs = np.arange(0, 20)\n",
    "ys = np.arange(0, 30)\n",
    "\n",
    "orig = SersicModelEvaluator(10, 2, 30)\n",
    "test = TestEval(10, 2, 30)\n",
    "\n",
    "ro = []\n",
    "rt = []"
   ]
  },
  {
   "cell_type": "code",
   "execution_count": 56,
   "id": "783af6d1-f8ea-4966-bc36-512a0d3a4082",
   "metadata": {},
   "outputs": [
    {
     "name": "stdout",
     "output_type": "stream",
     "text": [
      "2.04 ms ± 74.9 µs per loop (mean ± std. dev. of 7 runs, 100 loops each)\n"
     ]
    }
   ],
   "source": [
    "%%timeit\n",
    "for x in xs:\n",
    "    for y in ys:\n",
    "       ro.append(orig(x, y))"
   ]
  },
  {
   "cell_type": "code",
   "execution_count": 57,
   "id": "0d4f1f4f-7d24-4b0f-b648-00a20fdc58c3",
   "metadata": {},
   "outputs": [
    {
     "name": "stdout",
     "output_type": "stream",
     "text": [
      "1.95 ms ± 40.8 µs per loop (mean ± std. dev. of 7 runs, 100 loops each)\n"
     ]
    }
   ],
   "source": [
    "%%timeit\n",
    "for x in xs:\n",
    "    for y in ys:\n",
    "       rt.append(test(x, y))"
   ]
  },
  {
   "cell_type": "code",
   "execution_count": 58,
   "id": "e2af9e7c-9d45-470d-9b00-121839924405",
   "metadata": {},
   "outputs": [
    {
     "data": {
      "text/plain": [
       "True"
      ]
     },
     "execution_count": 58,
     "metadata": {},
     "output_type": "execute_result"
    }
   ],
   "source": [
    "np.isclose(ro, rt).all()"
   ]
  },
  {
   "cell_type": "code",
   "execution_count": null,
   "id": "1523b530-a72c-47da-b82b-20f517fce6c7",
   "metadata": {},
   "outputs": [
    {
     "data": {
      "text/plain": [
       "0"
      ]
     },
     "execution_count": 36,
     "metadata": {},
     "output_type": "execute_result"
    }
   ],
   "source": []
  }
 ],
 "metadata": {
  "kernelspec": {
   "display_name": "Python 3 (ipykernel)",
   "language": "python",
   "name": "python3"
  },
  "language_info": {
   "codemirror_mode": {
    "name": "ipython",
    "version": 3
   },
   "file_extension": ".py",
   "mimetype": "text/x-python",
   "name": "python",
   "nbconvert_exporter": "python",
   "pygments_lexer": "ipython3",
   "version": "3.7.10"
  }
 },
 "nbformat": 4,
 "nbformat_minor": 5
}
