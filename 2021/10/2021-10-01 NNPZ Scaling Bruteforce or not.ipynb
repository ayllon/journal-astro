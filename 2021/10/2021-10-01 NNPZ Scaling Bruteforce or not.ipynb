{
 "cells": [
  {
   "cell_type": "code",
   "execution_count": 1,
   "id": "f1b57e23-360e-44ff-94b7-c533c4a15159",
   "metadata": {},
   "outputs": [],
   "source": [
    "%matplotlib inline\n",
    "import numpy as np\n",
    "import matplotlib.pyplot as plt\n",
    "from astropy.table import Table\n",
    "from scipy.spatial import cKDTree as KDTree\n",
    "from tqdm.notebook import tqdm"
   ]
  },
  {
   "cell_type": "code",
   "execution_count": 2,
   "id": "9cce626d-8eb5-4db2-a0ee-3adad84828ab",
   "metadata": {},
   "outputs": [],
   "source": [
    "prod = '/home/aalvarez/Work/Data/SC8/PHZPRD_D3_3_NOMINAL_20211006T095754-37VOZ8CE-20211006-095828-003'"
   ]
  },
  {
   "cell_type": "code",
   "execution_count": 3,
   "id": "70df61ee-0c3d-4ec4-b3f5-c0e31eee9bab",
   "metadata": {},
   "outputs": [
    {
     "data": {
      "text/plain": [
       "500000"
      ]
     },
     "execution_count": 3,
     "metadata": {},
     "output_type": "execute_result"
    }
   ],
   "source": [
    "ref = Table.read(os.path.join(prod, 'ProductionInputEcdmHandler/star_reference_sample_dir.dir/phot.fits'), hdu=1)\n",
    "len(ref)"
   ]
  },
  {
   "cell_type": "code",
   "execution_count": 4,
   "id": "6cc384da-aa1c-4280-9b7f-29ea06a533b3",
   "metadata": {},
   "outputs": [
    {
     "data": {
      "text/plain": [
       "1691"
      ]
     },
     "execution_count": 4,
     "metadata": {},
     "output_type": "execute_result"
    }
   ],
   "source": [
    "target = Table.read(os.path.join(prod, 'GalaxyFilteringTask/star_catalog.fits'))\n",
    "len(target)"
   ]
  },
  {
   "cell_type": "code",
   "execution_count": 5,
   "id": "43e95958-5514-40ad-a14d-da59d174eb89",
   "metadata": {},
   "outputs": [],
   "source": [
    "truth = Table.read(os.path.join(prod, 'NnpzStarSed/output_file.fits'))"
   ]
  },
  {
   "cell_type": "code",
   "execution_count": 6,
   "id": "f32835d1-fe75-4a21-abf2-c782e8202b9d",
   "metadata": {},
   "outputs": [],
   "source": [
    "config = dict()\n",
    "exec(open('/home/aalvarez/Work/Data/SC8/PHZPRD_D3_3_NOMINAL_20211006T095754-37VOZ8CE-20211006-095828-003/data/nnpz_star_sed_07Jun2021-094516.conf').read(), config)"
   ]
  },
  {
   "cell_type": "code",
   "execution_count": 31,
   "id": "d82a1b0b-1f56-4d61-9ee2-31bd5b07586b",
   "metadata": {},
   "outputs": [],
   "source": [
    "# Missing bands!\n",
    "ref_filters = config['reference_sample_phot_filters']\n",
    "target_filters = config['target_catalog_filters']"
   ]
  },
  {
   "cell_type": "code",
   "execution_count": 32,
   "id": "2193e0c5-55b8-467c-9b3e-970bdbc777f7",
   "metadata": {},
   "outputs": [
    {
     "name": "stdout",
     "output_type": "stream",
     "text": [
      "9 ['euclid/VIS', 'euclid/Y', 'euclid/J', 'euclid/H', 'subaru/z', 'megacam/u', 'megacam/r', 'jpcam/g', 'panstarrs/i']\n"
     ]
    }
   ],
   "source": [
    "ref_selected = []\n",
    "target_selected = []\n",
    "for rname, (tname, terr) in zip(ref_filters, target_filters):\n",
    "    if np.isnan(target[tname]).sum() < 1:\n",
    "        ref_selected.append(rname)\n",
    "        target_selected.append((tname, terr))\n",
    "print(len(ref_selected), ref_selected)"
   ]
  },
  {
   "cell_type": "code",
   "execution_count": 9,
   "id": "3aec2f86-fae1-422c-87b9-edb2e9f65750",
   "metadata": {},
   "outputs": [],
   "source": [
    "vis = ref_selected.index('euclid/VIS')"
   ]
  },
  {
   "cell_type": "markdown",
   "id": "749dcc2b-b62a-4ae9-b96c-75577b54a6bb",
   "metadata": {},
   "source": [
    "# Normalize the reference sample"
   ]
  },
  {
   "cell_type": "code",
   "execution_count": 10,
   "id": "706f4013-75eb-4305-9cfb-b87da47c51ae",
   "metadata": {},
   "outputs": [],
   "source": [
    "ref_photo = np.zeros((len(ref), len(ref_selected)))\n",
    "for i, fname in enumerate(ref_selected):\n",
    "    ref_photo[:, i] = ref[fname]"
   ]
  },
  {
   "cell_type": "code",
   "execution_count": 11,
   "id": "043ea34c-266c-4f86-b153-0d81ced9d86f",
   "metadata": {},
   "outputs": [],
   "source": [
    "ref_l2norm = ref_photo / np.sqrt(np.sum(ref_photo**2, axis=1, keepdims=True))"
   ]
  },
  {
   "cell_type": "markdown",
   "id": "25fdccd4-76b8-438b-a340-6f563557a062",
   "metadata": {},
   "source": [
    "# KDTree"
   ]
  },
  {
   "cell_type": "code",
   "execution_count": 12,
   "id": "8506fa26-aabb-42c2-af9c-5a1fc7a94df3",
   "metadata": {},
   "outputs": [],
   "source": [
    "kdtree = KDTree(ref_l2norm)"
   ]
  },
  {
   "cell_type": "markdown",
   "id": "d95ea074-c753-461f-b669-78d1d4f55847",
   "metadata": {},
   "source": [
    "# Load and normalize the target"
   ]
  },
  {
   "cell_type": "code",
   "execution_count": 13,
   "id": "a1f32be4-547d-44af-a994-b970900dbfc0",
   "metadata": {},
   "outputs": [],
   "source": [
    "target_photo = np.zeros((len(target), len(target_selected)))\n",
    "for i, (fname, ferr) in enumerate(target_selected):\n",
    "    target_photo[:, i] = target[fname]"
   ]
  },
  {
   "cell_type": "code",
   "execution_count": 14,
   "id": "52944624-2511-4b1b-8cba-b9e7b887cc8c",
   "metadata": {},
   "outputs": [],
   "source": [
    "target_l2norm = target_photo / np.sqrt(np.sum(target_photo**2, axis=1, keepdims=True))"
   ]
  },
  {
   "cell_type": "code",
   "execution_count": 15,
   "id": "11484056-65a0-4562-8b29-067f320b4fd1",
   "metadata": {},
   "outputs": [
    {
     "data": {
      "text/plain": [
       "0.7001774098166765"
      ]
     },
     "execution_count": 15,
     "metadata": {},
     "output_type": "execute_result"
    }
   ],
   "source": [
    "target_mask = np.isnan(target_photo).sum(axis=1) == 0\n",
    "target_mask = target_mask & (truth['FLAGS_1'] == 0)\n",
    "target_mask.sum() / len(target)"
   ]
  },
  {
   "cell_type": "code",
   "execution_count": 16,
   "id": "787e6476-abc8-47ca-ac8c-75817833dfd7",
   "metadata": {},
   "outputs": [],
   "source": [
    "masked_norm = target_l2norm[target_mask]\n",
    "masked_truth = truth[target_mask]"
   ]
  },
  {
   "cell_type": "code",
   "execution_count": 17,
   "id": "6ef16c25-efee-4bee-87d7-e82117948126",
   "metadata": {},
   "outputs": [
    {
     "data": {
      "text/plain": [
       "True"
      ]
     },
     "execution_count": 17,
     "metadata": {},
     "output_type": "execute_result"
    }
   ],
   "source": [
    "(target[target_mask]['OBJECT_ID'] == masked_truth['OBJECT_ID']).all()"
   ]
  },
  {
   "cell_type": "markdown",
   "id": "dc58d2aa-8320-4ca7-9c19-50f3c220e9ac",
   "metadata": {},
   "source": [
    "# How many match?"
   ]
  },
  {
   "cell_type": "code",
   "execution_count": 18,
   "id": "9af4786c-1069-4a8e-8add-43b56a5d1759",
   "metadata": {},
   "outputs": [],
   "source": [
    "def get_matches(ref_ids):\n",
    "    matches = np.zeros(len(masked_truth))\n",
    "    best = np.zeros(len(masked_truth))\n",
    "    best_ids = np.flip(masked_truth['NEIGHBOR_WEIGHTS'].argsort(axis=1), axis=1)\n",
    "\n",
    "    for i in range(len(masked_truth)):\n",
    "        match = np.in1d(masked_truth['NEIGHBOR_IDS'][i][best_ids[i]], ref_ids[i])\n",
    "        if match.any():\n",
    "            matches[i] = match.argmax() + 1\n",
    "        else:\n",
    "            matches[i] = -1\n",
    "    return matches"
   ]
  },
  {
   "cell_type": "code",
   "execution_count": 19,
   "id": "ad973852-8b16-4881-8ccc-06073300b1a0",
   "metadata": {},
   "outputs": [
    {
     "data": {
      "application/vnd.jupyter.widget-view+json": {
       "model_id": "a0489fe15d3343bb939c551e5500cbb9",
       "version_major": 2,
       "version_minor": 0
      },
      "text/plain": [
       "  0%|          | 0/8 [00:00<?, ?it/s]"
      ]
     },
     "metadata": {},
     "output_type": "display_data"
    },
    {
     "data": {
      "image/png": "[encoded data removed]",
      "text/plain": [
       "<Figure size 1080x1080 with 8 Axes>"
      ]
     },
     "metadata": {
      "needs_background": "light"
     },
     "output_type": "display_data"
    }
   ],
   "source": [
    "batches = np.asarray([100, 500, 1000, 2000, 5000, 10000, 20000, 50000])\n",
    "\n",
    "fig, axes = plt.subplots(ncols=2, nrows=4, figsize=(15, 15), sharex=True, sharey=True)\n",
    "\n",
    "for i, ax in enumerate(tqdm(axes.ravel())):\n",
    "    k = batches[i]\n",
    "    _, ref_idx = kdtree.query(masked_norm, k=k)\n",
    "    ref_ids = ref['ID'][ref_idx]\n",
    "    matches = get_matches(ref_ids)\n",
    "        \n",
    "    ax.hist(matches, bins=np.arange(-1, 32))\n",
    "    ax.set_title(f'Position of first best neighbor found in batch n={k}')\n",
    "plt.tight_layout()\n",
    "plt.savefig('/home/aalvarez/Downloads/batch_star.png')\n",
    "plt.show()"
   ]
  },
  {
   "cell_type": "code",
   "execution_count": 23,
   "id": "87c1b610-8853-4757-ab3d-3441d4ed239b",
   "metadata": {},
   "outputs": [
    {
     "data": {
      "text/plain": [
       "477"
      ]
     },
     "execution_count": 23,
     "metadata": {},
     "output_type": "execute_result"
    }
   ],
   "source": [
    "(masked_norm < 0).sum()"
   ]
  },
  {
   "cell_type": "code",
   "execution_count": null,
   "id": "fb5e6a43-fe3b-4bd6-bdac-3c3896a1e947",
   "metadata": {},
   "outputs": [],
   "source": []
  }
 ],
 "metadata": {
  "kernelspec": {
   "display_name": "Python 3 (ipykernel)",
   "language": "python",
   "name": "python3"
  },
  "language_info": {
   "codemirror_mode": {
    "name": "ipython",
    "version": 3
   },
   "file_extension": ".py",
   "mimetype": "text/x-python",
   "name": "python",
   "nbconvert_exporter": "python",
   "pygments_lexer": "ipython3",
   "version": "3.7.10"
  }
 },
 "nbformat": 4,
 "nbformat_minor": 5
}
