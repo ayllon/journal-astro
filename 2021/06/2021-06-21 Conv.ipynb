{
 "cells": [
  {
   "cell_type": "code",
   "execution_count": 24,
   "id": "bf4a03a5-0845-4b60-bb62-c7682c719ce6",
   "metadata": {},
   "outputs": [],
   "source": [
    "import matplotlib.pyplot as plt\n",
    "import numpy as np\n",
    "from scipy.signal.signaltools import convolve2d"
   ]
  },
  {
   "cell_type": "code",
   "execution_count": 7,
   "id": "665f68c4-84e2-4240-8488-f2b722cc9b08",
   "metadata": {},
   "outputs": [
    {
     "data": {
      "text/plain": [
       "(50, 50)"
      ]
     },
     "execution_count": 7,
     "metadata": {},
     "output_type": "execute_result"
    }
   ],
   "source": [
    "# define normalized 2D gaussian\n",
    "def gaus2d(x=0, y=0, mx=0, my=0, sx=1, sy=1):\n",
    "    return 1. / (2. * np.pi * sx * sy) * np.exp(-((x - mx)**2. / (2. * sx**2.) + (y - my)**2. / (2. * sy**2.)))"
   ]
  },
  {
   "cell_type": "code",
   "execution_count": 129,
   "id": "4196a5cf-d5f1-4fc6-8510-075493539928",
   "metadata": {},
   "outputs": [],
   "source": [
    "x = np.linspace(-2, 2, 5)\n",
    "y = np.linspace(-2, 2, 5)\n",
    "x, y = np.meshgrid(x, y) # get 2D variables instead of 1D\n",
    "psf = gaus2d(x, y, sx=3)"
   ]
  },
  {
   "cell_type": "code",
   "execution_count": 130,
   "id": "dcf8d6eb-397b-4d3e-9637-1eacc90fdfbb",
   "metadata": {},
   "outputs": [
    {
     "data": {
      "text/plain": [
       "<matplotlib.image.AxesImage at 0x7f80f7161a10>"
      ]
     },
     "execution_count": 130,
     "metadata": {},
     "output_type": "execute_result"
    },
    {
     "data": {
      "image/png": "[encoded data removed]",
      "text/plain": [
       "<Figure size 432x288 with 1 Axes>"
      ]
     },
     "metadata": {
      "needs_background": "light"
     },
     "output_type": "display_data"
    }
   ],
   "source": [
    "plt.figure()\n",
    "plt.imshow(psf)"
   ]
  },
  {
   "cell_type": "code",
   "execution_count": 131,
   "id": "1e6a0f01-d3d6-44d4-aa01-7b597e437096",
   "metadata": {},
   "outputs": [
    {
     "data": {
      "text/plain": [
       "array([0.0057491 , 0.00679176, 0.00717976, 0.00679176, 0.0057491 ,\n",
       "       0.02576569, 0.03043856, 0.03217745, 0.03043856, 0.02576569,\n",
       "       0.04248044, 0.05018471, 0.05305165, 0.05018471, 0.04248044,\n",
       "       0.02576569, 0.03043856, 0.03217745, 0.03043856, 0.02576569,\n",
       "       0.0057491 , 0.00679176, 0.00717976, 0.00679176, 0.0057491 ])"
      ]
     },
     "execution_count": 131,
     "metadata": {},
     "output_type": "execute_result"
    }
   ],
   "source": [
    "psf.ravel()"
   ]
  },
  {
   "cell_type": "code",
   "execution_count": 155,
   "id": "d8fab32e-af34-4bd8-8690-aacc09d8cf93",
   "metadata": {},
   "outputs": [],
   "source": [
    "x = np.linspace(-3, 3, 11)\n",
    "y = np.linspace(-3, 3, 11)\n",
    "x, y = np.meshgrid(x, y) # get 2D variables instead of 1D\n",
    "src = gaus2d(x, y, mx=0, my=0, sx=1, sy=1)"
   ]
  },
  {
   "cell_type": "code",
   "execution_count": 156,
   "id": "ab0381a9-3b9f-4396-95cb-72d2eceb1343",
   "metadata": {},
   "outputs": [
    {
     "data": {
      "text/plain": [
       "array([1.96412803e-05, 9.92491635e-05, 3.49895134e-04, 8.60603159e-04,\n",
       "       1.47680093e-03, 1.76805171e-03, 1.47680093e-03, 8.60603159e-04,\n",
       "       3.49895134e-04, 9.92491635e-05, 1.96412803e-05, 9.92491635e-05,\n",
       "       5.01514987e-04, 1.76805171e-03, 4.34870549e-03, 7.46240846e-03,\n",
       "       8.93412498e-03, 7.46240846e-03, 4.34870549e-03, 1.76805171e-03,\n",
       "       5.01514987e-04, 9.92491635e-05, 3.49895134e-04, 1.76805171e-03,\n",
       "       6.23312750e-03, 1.53310198e-02, 2.63081351e-02, 3.14965562e-02,\n",
       "       2.63081351e-02, 1.53310198e-02, 6.23312750e-03, 1.76805171e-03,\n",
       "       3.49895134e-04, 8.60603159e-04, 4.34870549e-03, 1.53310198e-02,\n",
       "       3.77082239e-02, 6.47075711e-02, 7.74690276e-02, 6.47075711e-02,\n",
       "       3.77082239e-02, 1.53310198e-02, 4.34870549e-03, 8.60603159e-04,\n",
       "       1.47680093e-03, 7.46240846e-03, 2.63081351e-02, 6.47075711e-02,\n",
       "       1.11038636e-01, 1.32937383e-01, 1.11038636e-01, 6.47075711e-02,\n",
       "       2.63081351e-02, 7.46240846e-03, 1.47680093e-03, 1.76805171e-03,\n",
       "       8.93412498e-03, 3.14965562e-02, 7.74690276e-02, 1.32937383e-01,\n",
       "       1.59154943e-01, 1.32937383e-01, 7.74690276e-02, 3.14965562e-02,\n",
       "       8.93412498e-03, 1.76805171e-03, 1.47680093e-03, 7.46240846e-03,\n",
       "       2.63081351e-02, 6.47075711e-02, 1.11038636e-01, 1.32937383e-01,\n",
       "       1.11038636e-01, 6.47075711e-02, 2.63081351e-02, 7.46240846e-03,\n",
       "       1.47680093e-03, 8.60603159e-04, 4.34870549e-03, 1.53310198e-02,\n",
       "       3.77082239e-02, 6.47075711e-02, 7.74690276e-02, 6.47075711e-02,\n",
       "       3.77082239e-02, 1.53310198e-02, 4.34870549e-03, 8.60603159e-04,\n",
       "       3.49895134e-04, 1.76805171e-03, 6.23312750e-03, 1.53310198e-02,\n",
       "       2.63081351e-02, 3.14965562e-02, 2.63081351e-02, 1.53310198e-02,\n",
       "       6.23312750e-03, 1.76805171e-03, 3.49895134e-04, 9.92491635e-05,\n",
       "       5.01514987e-04, 1.76805171e-03, 4.34870549e-03, 7.46240846e-03,\n",
       "       8.93412498e-03, 7.46240846e-03, 4.34870549e-03, 1.76805171e-03,\n",
       "       5.01514987e-04, 9.92491635e-05, 1.96412803e-05, 9.92491635e-05,\n",
       "       3.49895134e-04, 8.60603159e-04, 1.47680093e-03, 1.76805171e-03,\n",
       "       1.47680093e-03, 8.60603159e-04, 3.49895134e-04, 9.92491635e-05,\n",
       "       1.96412803e-05])"
      ]
     },
     "execution_count": 156,
     "metadata": {},
     "output_type": "execute_result"
    }
   ],
   "source": [
    "src.ravel()"
   ]
  },
  {
   "cell_type": "code",
   "execution_count": 157,
   "id": "39ade384-9718-4387-8304-9f0a648fd1ea",
   "metadata": {},
   "outputs": [
    {
     "data": {
      "text/plain": [
       "<matplotlib.image.AxesImage at 0x7f80f6b68310>"
      ]
     },
     "execution_count": 157,
     "metadata": {},
     "output_type": "execute_result"
    },
    {
     "data": {
      "image/png": "[encoded data removed]",
      "text/plain": [
       "<Figure size 432x288 with 1 Axes>"
      ]
     },
     "metadata": {
      "needs_background": "light"
     },
     "output_type": "display_data"
    }
   ],
   "source": [
    "plt.figure()\n",
    "plt.imshow(src)"
   ]
  },
  {
   "cell_type": "code",
   "execution_count": 158,
   "id": "93bf9123-2052-461e-ae66-c8e8be389f8b",
   "metadata": {},
   "outputs": [
    {
     "data": {
      "text/plain": [
       "(11, 11)"
      ]
     },
     "execution_count": 158,
     "metadata": {},
     "output_type": "execute_result"
    }
   ],
   "source": [
    "convd = convolve2d(src, psf, 'same', boundary='wrap')\n",
    "convd.shape"
   ]
  },
  {
   "cell_type": "code",
   "execution_count": 159,
   "id": "7f898f7b-24b2-4a51-8549-b7121a435882",
   "metadata": {},
   "outputs": [
    {
     "data": {
      "text/plain": [
       "<matplotlib.image.AxesImage at 0x7f80f6aeaf90>"
      ]
     },
     "execution_count": 159,
     "metadata": {},
     "output_type": "execute_result"
    },
    {
     "data": {
      "image/png": "[encoded data removed]",
      "text/plain": [
       "<Figure size 432x288 with 1 Axes>"
      ]
     },
     "metadata": {
      "needs_background": "light"
     },
     "output_type": "display_data"
    }
   ],
   "source": [
    "plt.figure()\n",
    "plt.imshow(convd)"
   ]
  },
  {
   "cell_type": "code",
   "execution_count": 160,
   "id": "fcb8856e-e121-433b-a015-1f8afce55ff1",
   "metadata": {},
   "outputs": [
    {
     "data": {
      "text/plain": [
       "array([0.00020261, 0.00047532, 0.00101194, 0.00168255, 0.00223559,\n",
       "       0.00244743, 0.00223559, 0.00168255, 0.00101194, 0.00047532,\n",
       "       0.00020261, 0.00058776, 0.0013789 , 0.00293567, 0.00488112,\n",
       "       0.00648549, 0.00710004, 0.00648549, 0.00488112, 0.00293567,\n",
       "       0.0013789 , 0.00058776, 0.00150702, 0.00353548, 0.00752701,\n",
       "       0.01251512, 0.01662872, 0.01820442, 0.01662872, 0.01251512,\n",
       "       0.00752701, 0.00353548, 0.00150702, 0.00295037, 0.00692161,\n",
       "       0.01473604, 0.02450155, 0.03255496, 0.03563981, 0.03255496,\n",
       "       0.02450155, 0.01473604, 0.00692161, 0.00295037, 0.0044076 ,\n",
       "       0.01034029, 0.0220144 , 0.03660323, 0.04863435, 0.05324285,\n",
       "       0.04863435, 0.03660323, 0.0220144 , 0.01034029, 0.0044076 ,\n",
       "       0.00503727, 0.01181751, 0.02515938, 0.04183238, 0.05558227,\n",
       "       0.06084914, 0.05558227, 0.04183238, 0.02515938, 0.01181751,\n",
       "       0.00503727, 0.0044076 , 0.01034029, 0.0220144 , 0.03660323,\n",
       "       0.04863435, 0.05324285, 0.04863435, 0.03660323, 0.0220144 ,\n",
       "       0.01034029, 0.0044076 , 0.00295037, 0.00692161, 0.01473604,\n",
       "       0.02450155, 0.03255496, 0.03563981, 0.03255496, 0.02450155,\n",
       "       0.01473604, 0.00692161, 0.00295037, 0.00150702, 0.00353548,\n",
       "       0.00752701, 0.01251512, 0.01662872, 0.01820442, 0.01662872,\n",
       "       0.01251512, 0.00752701, 0.00353548, 0.00150702, 0.00058776,\n",
       "       0.0013789 , 0.00293567, 0.00488112, 0.00648549, 0.00710004,\n",
       "       0.00648549, 0.00488112, 0.00293567, 0.0013789 , 0.00058776,\n",
       "       0.00020261, 0.00047532, 0.00101194, 0.00168255, 0.00223559,\n",
       "       0.00244743, 0.00223559, 0.00168255, 0.00101194, 0.00047532,\n",
       "       0.00020261])"
      ]
     },
     "execution_count": 160,
     "metadata": {},
     "output_type": "execute_result"
    }
   ],
   "source": [
    "convd.ravel()"
   ]
  },
  {
   "cell_type": "code",
   "execution_count": 161,
   "id": "de39a29c-697e-480e-8f6f-23dffaa87618",
   "metadata": {},
   "outputs": [],
   "source": [
    "res = np.array([\n",
    "0.000714956, 0.00113691, 0.00220805, 0.0034055, 0.00414419, 0.00414419, 0.0034055, 0.00220805, 0.00113691, 0.000714956, 0.00142096, 0.00225959, 0.00438847, 0.00676838, 0.00823652, 0.00823652, 0.00676838, 0.00438847, 0.00225959, 0.00142096, 0.00355199, 0.0056483, 0.0109699, 0.0169189, 0.0205888, 0.0205888, 0.0169189, 0.0109699, 0.0056483, 0.00355199, 0.00663073, 0.0105441, 0.0204782, 0.0315837, 0.0384345, 0.0384345, 0.0315837, 0.0204782, 0.0105441, 0.00663073, 0.00904644, 0.0143855, 0.0279388, 0.0430903, 0.052437, 0.052437, 0.0430903, 0.0279388, 0.0143855, 0.00904644, 0.00904644, 0.0143855, 0.0279388, 0.0430903, 0.052437, 0.052437, 0.0430903, 0.0279388, 0.0143855, 0.00904644, 0.00663073, 0.0105441, 0.0204782, 0.0315837, 0.0384345, 0.0384345, 0.0315837, 0.0204782, 0.0105441, 0.00663073, 0.00355199, 0.0056483, 0.0109699, 0.0169189, 0.0205888, 0.0205888, 0.0169189, 0.0109699, 0.0056483, 0.00355199, 0.00142096, 0.00225959, 0.00438847, 0.00676838, 0.00823652, 0.00823652, 0.00676838, 0.00438847, 0.00225959, 0.00142096, 0.000714955, 0.00113691, 0.00220805, 0.0034055, 0.00414419, 0.00414419, 0.0034055, 0.00220805, 0.00113691, 0.000714956, \n",
    "]).reshape(10, 10)"
   ]
  },
  {
   "cell_type": "code",
   "execution_count": 162,
   "id": "b54d93e9-8f73-42a9-92c5-e27e1806d625",
   "metadata": {},
   "outputs": [
    {
     "data": {
      "text/plain": [
       "<matplotlib.image.AxesImage at 0x7f80f6a71e50>"
      ]
     },
     "execution_count": 162,
     "metadata": {},
     "output_type": "execute_result"
    },
    {
     "data": {
      "image/png": "[encoded data removed]",
      "text/plain": [
       "<Figure size 432x288 with 1 Axes>"
      ]
     },
     "metadata": {
      "needs_background": "light"
     },
     "output_type": "display_data"
    }
   ],
   "source": [
    "plt.figure()\n",
    "plt.imshow(res)"
   ]
  },
  {
   "cell_type": "code",
   "execution_count": 163,
   "id": "abc192c3-bd30-4bfa-9515-e8ee394b10ef",
   "metadata": {},
   "outputs": [
    {
     "ename": "ValueError",
     "evalue": "operands could not be broadcast together with shapes (10,10) (11,11) ",
     "output_type": "error",
     "traceback": [
      "\u001b[0;31m---------------------------------------------------------------------------\u001b[0m",
      "\u001b[0;31mValueError\u001b[0m                                Traceback (most recent call last)",
      "\u001b[0;32m<ipython-input-163-6b3343a0aaa6>\u001b[0m in \u001b[0;36m<module>\u001b[0;34m\u001b[0m\n\u001b[0;32m----> 1\u001b[0;31m \u001b[0mplt\u001b[0m\u001b[0;34m.\u001b[0m\u001b[0mimshow\u001b[0m\u001b[0;34m(\u001b[0m\u001b[0mres\u001b[0m\u001b[0;34m-\u001b[0m\u001b[0mconvd\u001b[0m\u001b[0;34m)\u001b[0m\u001b[0;34m\u001b[0m\u001b[0;34m\u001b[0m\u001b[0m\n\u001b[0m",
      "\u001b[0;31mValueError\u001b[0m: operands could not be broadcast together with shapes (10,10) (11,11) "
     ]
    }
   ],
   "source": [
    "plt.imshow(res-convd)"
   ]
  },
  {
   "cell_type": "code",
   "execution_count": null,
   "id": "a6b8c2a0-5fbc-4b31-98a2-8e969ae1b740",
   "metadata": {},
   "outputs": [],
   "source": []
  }
 ],
 "metadata": {
  "kernelspec": {
   "display_name": "Python 3",
   "language": "python",
   "name": "python3"
  },
  "language_info": {
   "codemirror_mode": {
    "name": "ipython",
    "version": 3
   },
   "file_extension": ".py",
   "mimetype": "text/x-python",
   "name": "python",
   "nbconvert_exporter": "python",
   "pygments_lexer": "ipython3",
   "version": "3.7.10"
  }
 },
 "nbformat": 4,
 "nbformat_minor": 5
}
