{
 "cells": [
  {
   "cell_type": "code",
   "execution_count": 1,
   "id": "headed-storage",
   "metadata": {},
   "outputs": [
    {
     "name": "stderr",
     "output_type": "stream",
     "text": [
      "WARNING : using environment variable BINARY_TAG for binary_tag\n",
      "WARNING : x86_64-fc33-gcc103-dbg is not in the list of distributed configurations\n"
     ]
    },
    {
     "ename": "MissingProjectError",
     "evalue": "cannot find project SIM_Tools latest for x86_64-fc33-gcc103-dbg in ['/home/aalvarez/Work/Projects']",
     "output_type": "error",
     "traceback": [
      "\u001b[0;31m---------------------------------------------------------------------------\u001b[0m",
      "\u001b[0;31mMissingProjectError\u001b[0m                       Traceback (most recent call last)",
      "\u001b[0;32m<ipython-input-1-b35405f16d8c>\u001b[0m in \u001b[0;36m<module>\u001b[0;34m\u001b[0m\n\u001b[1;32m     16\u001b[0m \u001b[0;34m\u001b[0m\u001b[0m\n\u001b[1;32m     17\u001b[0m \u001b[0mget_ipython\u001b[0m\u001b[0;34m(\u001b[0m\u001b[0;34m)\u001b[0m\u001b[0;34m.\u001b[0m\u001b[0mrun_line_magic\u001b[0m\u001b[0;34m(\u001b[0m\u001b[0;34m'elogin'\u001b[0m\u001b[0;34m,\u001b[0m \u001b[0;34m''\u001b[0m\u001b[0;34m)\u001b[0m\u001b[0;34m\u001b[0m\u001b[0;34m\u001b[0m\u001b[0m\n\u001b[0;32m---> 18\u001b[0;31m \u001b[0mget_ipython\u001b[0m\u001b[0;34m(\u001b[0m\u001b[0;34m)\u001b[0m\u001b[0;34m.\u001b[0m\u001b[0mrun_line_magic\u001b[0m\u001b[0;34m(\u001b[0m\u001b[0;34m'erun'\u001b[0m\u001b[0;34m,\u001b[0m \u001b[0;34m'SIM_Tools'\u001b[0m\u001b[0;34m)\u001b[0m\u001b[0;34m\u001b[0m\u001b[0;34m\u001b[0m\u001b[0m\n\u001b[0m\u001b[1;32m     19\u001b[0m \u001b[0;34m\u001b[0m\u001b[0m\n\u001b[1;32m     20\u001b[0m \u001b[0;32mfrom\u001b[0m \u001b[0mSimSpectra\u001b[0m\u001b[0;34m.\u001b[0m\u001b[0mSimSpectra\u001b[0m \u001b[0;32mimport\u001b[0m \u001b[0mSimGalaxySpectra\u001b[0m\u001b[0;34m\u001b[0m\u001b[0;34m\u001b[0m\u001b[0m\n",
      "\u001b[0;32m/opt/miniconda3/envs/phz/lib/python3.7/site-packages/IPython/core/interactiveshell.py\u001b[0m in \u001b[0;36mrun_line_magic\u001b[0;34m(self, magic_name, line, _stack_depth)\u001b[0m\n\u001b[1;32m   2346\u001b[0m                 \u001b[0mkwargs\u001b[0m\u001b[0;34m[\u001b[0m\u001b[0;34m'local_ns'\u001b[0m\u001b[0;34m]\u001b[0m \u001b[0;34m=\u001b[0m \u001b[0mself\u001b[0m\u001b[0;34m.\u001b[0m\u001b[0mget_local_scope\u001b[0m\u001b[0;34m(\u001b[0m\u001b[0mstack_depth\u001b[0m\u001b[0;34m)\u001b[0m\u001b[0;34m\u001b[0m\u001b[0;34m\u001b[0m\u001b[0m\n\u001b[1;32m   2347\u001b[0m             \u001b[0;32mwith\u001b[0m \u001b[0mself\u001b[0m\u001b[0;34m.\u001b[0m\u001b[0mbuiltin_trap\u001b[0m\u001b[0;34m:\u001b[0m\u001b[0;34m\u001b[0m\u001b[0;34m\u001b[0m\u001b[0m\n\u001b[0;32m-> 2348\u001b[0;31m                 \u001b[0mresult\u001b[0m \u001b[0;34m=\u001b[0m \u001b[0mfn\u001b[0m\u001b[0;34m(\u001b[0m\u001b[0;34m*\u001b[0m\u001b[0margs\u001b[0m\u001b[0;34m,\u001b[0m \u001b[0;34m**\u001b[0m\u001b[0mkwargs\u001b[0m\u001b[0;34m)\u001b[0m\u001b[0;34m\u001b[0m\u001b[0;34m\u001b[0m\u001b[0m\n\u001b[0m\u001b[1;32m   2349\u001b[0m             \u001b[0;32mreturn\u001b[0m \u001b[0mresult\u001b[0m\u001b[0;34m\u001b[0m\u001b[0;34m\u001b[0m\u001b[0m\n\u001b[1;32m   2350\u001b[0m \u001b[0;34m\u001b[0m\u001b[0m\n",
      "\u001b[0;32m<decorator-gen-118>\u001b[0m in \u001b[0;36merun\u001b[0;34m(self, line)\u001b[0m\n",
      "\u001b[0;32m/opt/miniconda3/envs/phz/lib/python3.7/site-packages/IPython/core/magic.py\u001b[0m in \u001b[0;36m<lambda>\u001b[0;34m(f, *a, **k)\u001b[0m\n\u001b[1;32m    185\u001b[0m     \u001b[0;31m# but it's overkill for just that one bit of state.\u001b[0m\u001b[0;34m\u001b[0m\u001b[0;34m\u001b[0m\u001b[0;34m\u001b[0m\u001b[0m\n\u001b[1;32m    186\u001b[0m     \u001b[0;32mdef\u001b[0m \u001b[0mmagic_deco\u001b[0m\u001b[0;34m(\u001b[0m\u001b[0marg\u001b[0m\u001b[0;34m)\u001b[0m\u001b[0;34m:\u001b[0m\u001b[0;34m\u001b[0m\u001b[0;34m\u001b[0m\u001b[0m\n\u001b[0;32m--> 187\u001b[0;31m         \u001b[0mcall\u001b[0m \u001b[0;34m=\u001b[0m \u001b[0;32mlambda\u001b[0m \u001b[0mf\u001b[0m\u001b[0;34m,\u001b[0m \u001b[0;34m*\u001b[0m\u001b[0ma\u001b[0m\u001b[0;34m,\u001b[0m \u001b[0;34m**\u001b[0m\u001b[0mk\u001b[0m\u001b[0;34m:\u001b[0m \u001b[0mf\u001b[0m\u001b[0;34m(\u001b[0m\u001b[0;34m*\u001b[0m\u001b[0ma\u001b[0m\u001b[0;34m,\u001b[0m \u001b[0;34m**\u001b[0m\u001b[0mk\u001b[0m\u001b[0;34m)\u001b[0m\u001b[0;34m\u001b[0m\u001b[0;34m\u001b[0m\u001b[0m\n\u001b[0m\u001b[1;32m    188\u001b[0m \u001b[0;34m\u001b[0m\u001b[0m\n\u001b[1;32m    189\u001b[0m         \u001b[0;32mif\u001b[0m \u001b[0mcallable\u001b[0m\u001b[0;34m(\u001b[0m\u001b[0marg\u001b[0m\u001b[0;34m)\u001b[0m\u001b[0;34m:\u001b[0m\u001b[0;34m\u001b[0m\u001b[0;34m\u001b[0m\u001b[0m\n",
      "\u001b[0;32m/opt/miniconda3/envs/phz/lib/python3.7/site-packages/Euclid/__init__.py\u001b[0m in \u001b[0;36merun\u001b[0;34m(self, line)\u001b[0m\n\u001b[1;32m     56\u001b[0m                     \u001b[0moption_list\u001b[0m \u001b[0;34m=\u001b[0m \u001b[0mline\u001b[0m\u001b[0;34m.\u001b[0m\u001b[0msplit\u001b[0m\u001b[0;34m(\u001b[0m\u001b[0;34m)\u001b[0m\u001b[0;34m\u001b[0m\u001b[0;34m\u001b[0m\u001b[0m\n\u001b[1;32m     57\u001b[0m                     \u001b[0mer\u001b[0m \u001b[0;34m=\u001b[0m \u001b[0mERun\u001b[0m\u001b[0;34m(\u001b[0m\u001b[0moption_list\u001b[0m\u001b[0;34m)\u001b[0m\u001b[0;34m\u001b[0m\u001b[0;34m\u001b[0m\u001b[0m\n\u001b[0;32m---> 58\u001b[0;31m                     \u001b[0mer\u001b[0m\u001b[0;34m.\u001b[0m\u001b[0m_makeEnv\u001b[0m\u001b[0;34m(\u001b[0m\u001b[0;34m)\u001b[0m\u001b[0;34m\u001b[0m\u001b[0;34m\u001b[0m\u001b[0m\n\u001b[0m\u001b[1;32m     59\u001b[0m                     \u001b[0;32mif\u001b[0m \u001b[0;32mnot\u001b[0m \u001b[0mer\u001b[0m\u001b[0;34m.\u001b[0m\u001b[0mcmd\u001b[0m\u001b[0;34m:\u001b[0m\u001b[0;34m\u001b[0m\u001b[0;34m\u001b[0m\u001b[0m\n\u001b[1;32m     60\u001b[0m                         \u001b[0m_ev\u001b[0m \u001b[0;34m=\u001b[0m \u001b[0mEnvironment\u001b[0m\u001b[0;34m(\u001b[0m\u001b[0;34m)\u001b[0m\u001b[0;34m\u001b[0m\u001b[0;34m\u001b[0m\u001b[0m\n",
      "\u001b[0;32m/opt/miniconda3/envs/phz/lib/python3.7/site-packages/Euclid/Run/Script.py\u001b[0m in \u001b[0;36m_makeEnv\u001b[0;34m(self)\u001b[0m\n\u001b[1;32m    154\u001b[0m             \u001b[0mv\u001b[0m \u001b[0;34m=\u001b[0m \u001b[0mexpandVersionAlias\u001b[0m\u001b[0;34m(\u001b[0m\u001b[0mp\u001b[0m\u001b[0;34m,\u001b[0m \u001b[0mv\u001b[0m\u001b[0;34m)\u001b[0m\u001b[0;34m\u001b[0m\u001b[0;34m\u001b[0m\u001b[0m\n\u001b[1;32m    155\u001b[0m             env_path.extend(\n\u001b[0;32m--> 156\u001b[0;31m                 getEnvXmlPath(p, v, self.opts.platform))\n\u001b[0m\u001b[1;32m    157\u001b[0m         \u001b[0;31m# FIXME: EnvConfig has got problems with unicode in the search path\u001b[0m\u001b[0;34m\u001b[0m\u001b[0;34m\u001b[0m\u001b[0;34m\u001b[0m\u001b[0m\n\u001b[1;32m    158\u001b[0m         \u001b[0;31m# ensure that we do not have unicode strings\u001b[0m\u001b[0;34m\u001b[0m\u001b[0;34m\u001b[0m\u001b[0;34m\u001b[0m\u001b[0m\n",
      "\u001b[0;32m/opt/miniconda3/envs/phz/lib/python3.7/site-packages/Euclid/Run/Lookup.py\u001b[0m in \u001b[0;36mgetEnvXmlPath\u001b[0;34m(project, version, platform)\u001b[0m\n\u001b[1;32m    170\u001b[0m     \u001b[0ma\u001b[0m \u001b[0mgiven\u001b[0m \u001b[0mproject\u001b[0m\u001b[0;34m.\u001b[0m\u001b[0;34m\u001b[0m\u001b[0;34m\u001b[0m\u001b[0m\n\u001b[1;32m    171\u001b[0m     '''\n\u001b[0;32m--> 172\u001b[0;31m     \u001b[0mpdir\u001b[0m \u001b[0;34m=\u001b[0m \u001b[0mfindProject\u001b[0m\u001b[0;34m(\u001b[0m\u001b[0mproject\u001b[0m\u001b[0;34m,\u001b[0m \u001b[0mversion\u001b[0m\u001b[0;34m,\u001b[0m \u001b[0mplatform\u001b[0m\u001b[0;34m)\u001b[0m\u001b[0;34m\u001b[0m\u001b[0;34m\u001b[0m\u001b[0m\n\u001b[0m\u001b[1;32m    173\u001b[0m     \u001b[0msearch_path\u001b[0m \u001b[0;34m=\u001b[0m \u001b[0;34m[\u001b[0m\u001b[0mpdir\u001b[0m\u001b[0;34m]\u001b[0m\u001b[0;34m\u001b[0m\u001b[0;34m\u001b[0m\u001b[0m\n\u001b[1;32m    174\u001b[0m     \u001b[0;31m# manifests to parse\u001b[0m\u001b[0;34m\u001b[0m\u001b[0;34m\u001b[0m\u001b[0;34m\u001b[0m\u001b[0m\n",
      "\u001b[0;32m/opt/miniconda3/envs/phz/lib/python3.7/site-packages/Euclid/Run/Lookup.py\u001b[0m in \u001b[0;36mfindProject\u001b[0;34m(name, version, platform)\u001b[0m\n\u001b[1;32m    107\u001b[0m \u001b[0;34m\u001b[0m\u001b[0m\n\u001b[1;32m    108\u001b[0m     \u001b[0;32mif\u001b[0m \u001b[0;32mnot\u001b[0m \u001b[0mproject_dir\u001b[0m\u001b[0;34m:\u001b[0m\u001b[0;34m\u001b[0m\u001b[0;34m\u001b[0m\u001b[0m\n\u001b[0;32m--> 109\u001b[0;31m         \u001b[0;32mraise\u001b[0m \u001b[0mMissingProjectError\u001b[0m\u001b[0;34m(\u001b[0m\u001b[0mname\u001b[0m\u001b[0;34m,\u001b[0m \u001b[0mversion\u001b[0m\u001b[0;34m,\u001b[0m \u001b[0mplatform\u001b[0m\u001b[0;34m,\u001b[0m \u001b[0mpath\u001b[0m\u001b[0;34m)\u001b[0m\u001b[0;34m\u001b[0m\u001b[0;34m\u001b[0m\u001b[0m\n\u001b[0m\u001b[1;32m    110\u001b[0m \u001b[0;34m\u001b[0m\u001b[0m\n\u001b[1;32m    111\u001b[0m     \u001b[0;32mreturn\u001b[0m \u001b[0mproject_dir\u001b[0m\u001b[0;34m\u001b[0m\u001b[0;34m\u001b[0m\u001b[0m\n",
      "\u001b[0;31mMissingProjectError\u001b[0m: cannot find project SIM_Tools latest for x86_64-fc33-gcc103-dbg in ['/home/aalvarez/Work/Projects']"
     ]
    }
   ],
   "source": [
    "%matplotlib inline\n",
    "import logging\n",
    "import Euclid\n",
    "import matplotlib.pyplot as plt\n",
    "import astropy.units as u\n",
    "import numpy as np\n",
    "\n",
    "from matplotlib import colors\n",
    "from matplotlib.gridspec import GridSpec\n",
    "from astropy.table import Table, Column, join\n",
    "from tqdm.notebook import tqdm\n",
    "from scipy.stats import gaussian_kde\n",
    "from scipy.signal import find_peaks\n",
    "from scikitplot.metrics import plot_confusion_matrix\n",
    "from IPython.display import set_matplotlib_formats\n",
    "\n",
    "%elogin\n",
    "%erun SIM_Tools\n",
    "\n",
    "from SimSpectra.SimSpectra import SimGalaxySpectra\n",
    "from ST_DM_MDBTools.Mdb import Mdb\n",
    "\n",
    "plt.rcParams['figure.figsize'] = (10, 6)\n",
    "set_matplotlib_formats('pdf')"
   ]
  },
  {
   "cell_type": "code",
   "execution_count": null,
   "id": "ahead-carbon",
   "metadata": {},
   "outputs": [],
   "source": [
    "pp = Table.read('/home/aalvarez/Work/Data/SC8/run5/pp_rerun_20210201.fits', hdu=1)\n",
    "true = Table.read('/home/aalvarez/Work/Data/SC8/run5/pp_rerun_20210129_with_tu_SNR10.fits', hdu=1)\n",
    "phz = Table.read('/home/aalvarez/Work/Data/SC8/run5/EUC_PHZ_PHZCAT__20210114T191139.733514Z_00.00.fits', hdu=1)\n",
    "zbins = Table.read('/home/aalvarez/Work/Data/SC8/run5/pp_rerun_20210129.fits', hdu=2)['BINS_PDF'].data\n",
    "mbins = Table.read('/home/aalvarez/Work/Data/SC8/run5/pp_rerun_20210129.fits', hdu='BINS_MC_PDF_1D_LOG_STELLARMASS')['BINS_PDF'].data\n",
    "bins2d = Table.read('/home/aalvarez/Work/Data/SC8/run5/pp_rerun_20210201.fits', hdu='BINS_MC_PDF_2D_Z_LOG_STELLARMASS')"
   ]
  },
  {
   "cell_type": "code",
   "execution_count": null,
   "id": "parallel-religious",
   "metadata": {},
   "outputs": [],
   "source": [
    "joint = join(pp, phz, 'OBJECT_ID')\n",
    "joint = join(joint, true, 'OBJECT_ID')"
   ]
  },
  {
   "cell_type": "code",
   "execution_count": null,
   "id": "strange-decimal",
   "metadata": {},
   "outputs": [],
   "source": [
    "idx = np.random.choice(len(joint), 4)\n",
    "\n",
    "fig, axes = plt.subplots(2, 2)\n",
    "for ax, obj in zip(axes.ravel(), idx):\n",
    "    ax.plot(bins, joint['MC_PDF_1D_Z'][obj], label='MC PDZ')\n",
    "    ax.plot(np.linspace(0, 6, 601), joint['PHZ_PDF'][obj], label='Coadded PDZ')\n",
    "    ax.axvline(joint['PHZ_PP_MODE_Z'][obj], c='green', linestyle='--', label='MC Z')\n",
    "    ax.axvline(joint['PHZ_MODE_1'][obj], c='cyan', linestyle='--', label='Coadded Z')\n",
    "    ax.axvline(joint['Z_OBS'][obj], linestyle=':', color='red', label='True Z')\n",
    "    ax.set_xlim(0, 2.0)\n",
    "    ax.legend()"
   ]
  },
  {
   "cell_type": "code",
   "execution_count": null,
   "id": "positive-mistake",
   "metadata": {},
   "outputs": [],
   "source": [
    "obj = 100\n",
    "\n",
    "fig = plt.figure()\n",
    "gs = GridSpec(ncols=2, nrows=2, hspace=0, wspace=0, height_ratios=[0.75, 0.25], width_ratios=[0.75, 0.25])\n",
    "\n",
    "grid = np.vstack([bins2d['Z'], bins2d['LOG_STELLARMASS']])\n",
    "kde = gaussian_kde(grid, weights=joint['MC_PDF_2D_Z_LOG_STELLARMASS'][obj])\n",
    "\n",
    "de2d = kde(grid).reshape(59, -1)\n",
    "xx = bins2d['Z'].reshape(59, -1)\n",
    "yy = bins2d['LOG_STELLARMASS'].reshape(59, -1)\n",
    "\n",
    "ax2d = fig.add_subplot(gs[0,0])\n",
    "ax2d.contourf(xx, yy, de2d, cmap='Blues', linestyles=None)\n",
    "ax2d.set_ylabel('Log stellar mass')\n",
    "ax2d.axvline(joint['Z_OBS'][obj], linestyle=':', color='red')\n",
    "ax2d.text(joint['Z_OBS'][obj] + 0.1, 2., 'True Z')\n",
    "plt.setp(ax2d.get_xticklabels(), visible=False)\n",
    "\n",
    "axz = fig.add_subplot(gs[1,0], sharex=ax2d)\n",
    "kde = gaussian_kde(zbins, weights=joint['MC_PDF_1D_Z'][obj])\n",
    "de = kde(zbins)\n",
    "axz.plot(zbins, de)\n",
    "axz.bar(\n",
    "    zbins, de.max() * joint['MC_PDF_1D_Z'][obj]/joint['MC_PDF_1D_Z'][obj].max(),\n",
    "    width=np.mean(np.diff(zbins)),\n",
    "    label='Histogram',\n",
    "    color='none', edgecolor='orange'\n",
    ")\n",
    "axz.set_yticks([])\n",
    "axz.set_xlabel('Z')\n",
    "axz.axvline(joint['Z_OBS'][obj], linestyle=':', color='red')\n",
    "\n",
    "axm = fig.add_subplot(gs[0,1], sharey=ax2d)\n",
    "kde = gaussian_kde(mbins, weights=joint['MC_PDF_1D_LOG_STELLARMASS'][obj])\n",
    "de = kde(mbins)\n",
    "axm.plot(de, mbins, label='Gaussian KDE')\n",
    "axm.barh(\n",
    "    mbins, joint['MC_PDF_1D_LOG_STELLARMASS'][obj]/joint['MC_PDF_1D_LOG_STELLARMASS'][obj].max(),\n",
    "    height=np.mean(np.diff(mbins)),\n",
    "    label='Histogram',\n",
    "    color='none', edgecolor='orange'\n",
    ")\n",
    "axm.set_xticks([])\n",
    "plt.setp(axm.get_yticklabels(), visible=False)\n",
    "axm.legend()\n",
    "\n",
    "plt.show()"
   ]
  },
  {
   "cell_type": "code",
   "execution_count": null,
   "id": "imposed-affiliation",
   "metadata": {},
   "outputs": [],
   "source": []
  }
 ],
 "metadata": {
  "kernelspec": {
   "display_name": "Python 3",
   "language": "python",
   "name": "python3"
  },
  "language_info": {
   "codemirror_mode": {
    "name": "ipython",
    "version": 3
   },
   "file_extension": ".py",
   "mimetype": "text/x-python",
   "name": "python",
   "nbconvert_exporter": "python",
   "pygments_lexer": "ipython3",
   "version": "3.7.10"
  }
 },
 "nbformat": 4,
 "nbformat_minor": 5
}
