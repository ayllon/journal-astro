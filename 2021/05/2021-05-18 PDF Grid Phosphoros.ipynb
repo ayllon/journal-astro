{
 "cells": [
  {
   "cell_type": "code",
   "execution_count": 1,
   "id": "8893ac8b-a5cf-484a-8db5-053d9c4a1084",
   "metadata": {},
   "outputs": [],
   "source": [
    "%matplotlib inline\n",
    "import numpy as np\n",
    "import matplotlib.pyplot as plt\n",
    "from scipy.stats import norm"
   ]
  },
  {
   "cell_type": "code",
   "execution_count": 2,
   "id": "a66953ee-97ee-4fc0-962e-6096b251804d",
   "metadata": {},
   "outputs": [
    {
     "data": {
      "text/plain": [
       "((61, 1, 1, 3), 183)"
      ]
     },
     "execution_count": 2,
     "metadata": {},
     "output_type": "execute_result"
    }
   ],
   "source": [
    "axis_z = np.linspace(0, 6, 61)\n",
    "axis_ebv = np.arange(1)\n",
    "axis_red = np.array(['Calzetti'])\n",
    "axis_sed = np.array(['sed1', 'sed2', 'sed3'])\n",
    "\n",
    "pdf = np.zeros((len(axis_z), len(axis_ebv), len(axis_red), len(axis_sed)))\n",
    "pdf.shape, pdf.size"
   ]
  },
  {
   "cell_type": "code",
   "execution_count": 3,
   "id": "2a2d4301-4ea3-4ca8-8c6e-4df7a0a4c1ec",
   "metadata": {},
   "outputs": [],
   "source": [
    "sed_probs = [0.6, 0.3, 0.1]\n",
    "for i in range(len(axis_sed)):\n",
    "    pdf[:,0,0,i] = norm.pdf(axis_z, loc=i*1.5) * sed_probs[i]"
   ]
  },
  {
   "cell_type": "code",
   "execution_count": 4,
   "id": "b8bdcb86-e454-48cd-baa7-248d555c7a26",
   "metadata": {},
   "outputs": [
    {
     "data": {
      "image/png": "[encoded data removed]",
      "text/plain": [
       "<Figure size 360x720 with 1 Axes>"
      ]
     },
     "metadata": {
      "needs_background": "light"
     },
     "output_type": "display_data"
    }
   ],
   "source": [
    "plt.figure(figsize=(5, 10))\n",
    "plt.imshow(pdf.reshape(61,3))\n",
    "plt.yticks(np.arange(len(axis_z))[::2], [f'{z:.2f}' for z in axis_z[::2]])\n",
    "plt.xticks(np.arange(len(axis_sed)), axis_sed, rotation='vertical')\n",
    "plt.tight_layout()\n",
    "plt.savefig('/home/aalvarez/Downloads/grid.png')\n",
    "plt.show()"
   ]
  },
  {
   "cell_type": "code",
   "execution_count": 13,
   "id": "f6126b51-ab4e-43f1-b9da-bb803ef92f60",
   "metadata": {},
   "outputs": [],
   "source": [
    "with open('/home/aalvarez/Work/Projects/Alexandria/Alexandria/MathUtils/auxdir/MathUtils/Grid_TEST_param_MADAU.txt', 'wt') as fd:\n",
    "    print(r'''22 serialization::archive 18 0 1 0\n",
    "0 0 0 2 1 0\n",
    "1 3 SED 3 3 1 0\n",
    "2 0 0 1 0 8 CosmosSp 8 new_name 3\n",
    "3 1 0 8 CosmosSp 6 Sa_A_0 3\n",
    "4 1 0 8 CosmosSp 6 Sa_A_1 2\n",
    "5 15 Reddening Curve 1 3\n",
    "6 0 0 11 SB_calzetti 5 1 0\n",
    "7 6 E(B-V) 1 0.00000000000000000e+00 5\n",
    "8 1 Z 61 0.00000000000000000e+00 1.00000000000000006e-01 2.00000000000000011e-01 2.99999999999999989e-01 4.00000000000000022e-01 5.00000000000000000e-01 5.99999999999999978e-01 6.99999999999999956e-01 8.00000000000000044e-01 9.00000000000000022e-01 1.00000000000000000e+00 1.10000000000000009e+00 1.19999999999999996e+00 1.30000000000000004e+00 1.39999999999999991e+00 1.50000000000000000e+00 1.60000000000000009e+00 1.69999999999999996e+00 1.80000000000000004e+00 1.89999999999999991e+00 2.00000000000000000e+00 2.10000000000000009e+00 2.20000000000000018e+00 2.29999999999999982e+00 2.39999999999999991e+00 2.50000000000000000e+00 2.60000000000000009e+00 2.70000000000000018e+00 2.79999999999999982e+00 2.89999999999999991e+00 3.00000000000000000e+00 3.10000000000000009e+00 3.20000000000000018e+00 3.29999999999999982e+00 3.39999999999999991e+00 3.50000000000000000e+00 3.60000000000000009e+00 3.70000000000000018e+00 3.79999999999999982e+00 3.89999999999999991e+00 4.00000000000000000e+00 4.09999999999999964e+00 4.20000000000000018e+00 4.29999999999999982e+00 4.40000000000000036e+00 4.50000000000000000e+00 4.59999999999999964e+00 4.70000000000000018e+00 4.79999999999999982e+00 4.90000000000000036e+00 5.00000000000000000e+00 5.09999999999999964e+00 5.20000000000000018e+00 5.29999999999999982e+00 5.40000000000000036e+00 5.50000000000000000e+00 5.59999999999999964e+00 5.70000000000000018e+00 5.79999999999999982e+00 5.90000000000000036e+00 6.00000000000000000e+00''', end=' ', file=fd)\n",
    "    print(*pdf.T.ravel(), end=' ', file=fd)"
   ]
  },
  {
   "cell_type": "code",
   "execution_count": 14,
   "id": "f8deb608-59e3-491d-a7e4-5e9ccab8f5cb",
   "metadata": {},
   "outputs": [
    {
     "data": {
      "text/plain": [
       "array([0.44978667, 0.40636481, 0.14384852])"
      ]
     },
     "execution_count": 14,
     "metadata": {},
     "output_type": "execute_result"
    }
   ],
   "source": [
    "pdf.sum(axis=0).sum(axis=0).sum(axis=0)/pdf.sum()"
   ]
  },
  {
   "cell_type": "code",
   "execution_count": 15,
   "id": "db4f2b55-59f3-4dd8-b572-2cf3a63351ea",
   "metadata": {},
   "outputs": [
    {
     "data": {
      "text/plain": [
       "1.110207359430605"
      ]
     },
     "execution_count": 15,
     "metadata": {},
     "output_type": "execute_result"
    }
   ],
   "source": [
    "3.11968268/2.81"
   ]
  },
  {
   "cell_type": "code",
   "execution_count": null,
   "id": "e88f555f-3796-4cf6-9366-5a1a6493cb25",
   "metadata": {},
   "outputs": [],
   "source": []
  }
 ],
 "metadata": {
  "kernelspec": {
   "display_name": "Python 3",
   "language": "python",
   "name": "python3"
  },
  "language_info": {
   "codemirror_mode": {
    "name": "ipython",
    "version": 3
   },
   "file_extension": ".py",
   "mimetype": "text/x-python",
   "name": "python",
   "nbconvert_exporter": "python",
   "pygments_lexer": "ipython3",
   "version": "3.7.10"
  }
 },
 "nbformat": 4,
 "nbformat_minor": 5
}
