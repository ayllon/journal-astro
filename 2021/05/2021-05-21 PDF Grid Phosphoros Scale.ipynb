{
 "cells": [
  {
   "cell_type": "code",
   "execution_count": 2,
   "id": "8893ac8b-a5cf-484a-8db5-053d9c4a1084",
   "metadata": {},
   "outputs": [],
   "source": [
    "%matplotlib inline\n",
    "import numpy as np\n",
    "import matplotlib.pyplot as plt\n",
    "from scipy.stats import norm"
   ]
  },
  {
   "cell_type": "code",
   "execution_count": 3,
   "id": "a66953ee-97ee-4fc0-962e-6096b251804d",
   "metadata": {},
   "outputs": [
    {
     "data": {
      "text/plain": [
       "((61, 1, 1, 3, 10), 1830)"
      ]
     },
     "execution_count": 3,
     "metadata": {},
     "output_type": "execute_result"
    }
   ],
   "source": [
    "axis_z = np.linspace(0, 6, 61)\n",
    "axis_ebv = np.arange(1)\n",
    "axis_red = np.array(['Calzetti'])\n",
    "axis_sed = np.array(['sed1', 'sed2', 'sed3'])\n",
    "axis_scale = np.arange(1, 11)\n",
    "\n",
    "pdf = np.zeros((len(axis_z), len(axis_ebv), len(axis_red), len(axis_sed), len(axis_scale)))\n",
    "pdf.shape, pdf.size"
   ]
  },
  {
   "cell_type": "code",
   "execution_count": 4,
   "id": "2a2d4301-4ea3-4ca8-8c6e-4df7a0a4c1ec",
   "metadata": {},
   "outputs": [],
   "source": [
    "sed_probs = [0.6, 0.3, 0.1]\n",
    "for i in range(len(axis_sed)):\n",
    "    pdf[:,0,0,i,:] = norm.pdf(axis_z, loc=i*1.5)[:,np.newaxis] * sed_probs[i] * norm.pdf(axis_scale, loc=10//(i+1))"
   ]
  },
  {
   "cell_type": "code",
   "execution_count": 5,
   "id": "c68f0de0-884c-4204-a091-6c3e3181da6e",
   "metadata": {},
   "outputs": [],
   "source": [
    "pdf /= pdf.sum()"
   ]
  },
  {
   "cell_type": "code",
   "execution_count": 6,
   "id": "4d8ff032-1148-43ea-9d73-d7d969b66d38",
   "metadata": {},
   "outputs": [
    {
     "data": {
      "image/png": "[encoded data removed]",
      "text/plain": [
       "<Figure size 1080x288 with 4 Axes>"
      ]
     },
     "metadata": {
      "needs_background": "light"
     },
     "output_type": "display_data"
    }
   ],
   "source": [
    "fig = plt.figure(figsize=(15,4))\n",
    "gs = fig.add_gridspec(2, 3, wspace=0)\n",
    "\n",
    "# SED marginal\n",
    "ax0 = fig.add_subplot(gs[0,:])\n",
    "ax0.imshow(pdf.sum(axis=-1).reshape(61, 3).T)\n",
    "ax0.set_yticks([0,1,2])\n",
    "ax0.set_yticklabels(['sed1', 'sed2', 'sed3'])\n",
    "ax0.set_xticks(np.arange(len(axis_z))[::2])\n",
    "ax0.set_xticklabels([f'{z:.2f}' for z in axis_z[::2]])\n",
    "ax0.set_xlabel('Z')\n",
    "ax0.set_title('Z vs SED')\n",
    "\n",
    "# SED0 scale\n",
    "ax1 = fig.add_subplot(gs[1,0])\n",
    "ax1.imshow(pdf[:,0,0,0,:].reshape(61, 10).T)\n",
    "ax1.set_title('SED1')\n",
    "\n",
    "# SED1 scale\n",
    "ax2 = fig.add_subplot(gs[1,1])\n",
    "ax2.imshow(pdf[:,0,0,1,:].reshape(61, 10).T)\n",
    "ax2.set_title('SED2')\n",
    "\n",
    "# SED2 scale\n",
    "ax3 = fig.add_subplot(gs[1,2])\n",
    "ax3.imshow(pdf[:,0,0,2,:].reshape(61, 10).T)\n",
    "ax3.set_title('SED3')\n",
    "\n",
    "# Labels\n",
    "for ax in [ax1, ax2, ax3]:\n",
    "    ax.set_yticks([])\n",
    "    ax.set_xlabel('Z')\n",
    "    ax.set_xticks(np.arange(len(axis_z))[::11])\n",
    "    ax.set_xticklabels([f'{z:.2f}' for z in axis_z[::11]])\n",
    "ax1.set_yticks(axis_scale[::2])\n",
    "ax1.set_ylabel('Scale')\n",
    "\n",
    "plt.tight_layout()\n",
    "plt.show()\n",
    "\n",
    "fig.savefig('/home/aalvarez/Work/Projects/Alexandria/Alexandria/MathUtils/auxdir/MathUtils/Grid_TEST_vector.png')"
   ]
  },
  {
   "cell_type": "code",
   "execution_count": 13,
   "id": "79240efb-5a65-4a1d-b60c-079f9d5f1248",
   "metadata": {},
   "outputs": [],
   "source": [
    "with open('/home/aalvarez/Work/Projects/Alexandria/Alexandria/MathUtils/auxdir/MathUtils/Grid_TEST_vector.txt', 'wt') as fd:\n",
    "    print(r'''22 serialization::archive 18 0 1 0\n",
    "0 0 0 2 1 0\n",
    "1 3 SED 3 3 1 0\n",
    "2 0 0 1 0 8 CosmosSp 8 new_name 3\n",
    "3 1 0 8 CosmosSp 6 Sa_A_0 3\n",
    "4 1 0 8 CosmosSp 6 Sa_A_1 2\n",
    "5 15 Reddening Curve 1 3\n",
    "6 0 0 11 SB_calzetti 5 1 0\n",
    "7 6 E(B-V) 1 0.00000000000000000e+00 5\n",
    "8 1 Z 61 0.00000000000000000e+00 1.00000000000000006e-01 2.00000000000000011e-01 2.99999999999999989e-01 4.00000000000000022e-01 5.00000000000000000e-01 5.99999999999999978e-01 6.99999999999999956e-01 8.00000000000000044e-01 9.00000000000000022e-01 1.00000000000000000e+00 1.10000000000000009e+00 1.19999999999999996e+00 1.30000000000000004e+00 1.39999999999999991e+00 1.50000000000000000e+00 1.60000000000000009e+00 1.69999999999999996e+00 1.80000000000000004e+00 1.89999999999999991e+00 2.00000000000000000e+00 2.10000000000000009e+00 2.20000000000000018e+00 2.29999999999999982e+00 2.39999999999999991e+00 2.50000000000000000e+00 2.60000000000000009e+00 2.70000000000000018e+00 2.79999999999999982e+00 2.89999999999999991e+00 3.00000000000000000e+00 3.10000000000000009e+00 3.20000000000000018e+00 3.29999999999999982e+00 3.39999999999999991e+00 3.50000000000000000e+00 3.60000000000000009e+00 3.70000000000000018e+00 3.79999999999999982e+00 3.89999999999999991e+00 4.00000000000000000e+00 4.09999999999999964e+00 4.20000000000000018e+00 4.29999999999999982e+00 4.40000000000000036e+00 4.50000000000000000e+00 4.59999999999999964e+00 4.70000000000000018e+00 4.79999999999999982e+00 4.90000000000000036e+00 5.00000000000000000e+00 5.09999999999999964e+00 5.20000000000000018e+00 5.29999999999999982e+00 5.40000000000000036e+00 5.50000000000000000e+00 5.59999999999999964e+00 5.70000000000000018e+00 5.79999999999999982e+00 5.90000000000000036e+00 6.00000000000000000e+00''', end=' ', file=fd)\n",
    "    for ised in range(len(axis_sed)):\n",
    "        for iz in range(len(axis_z)):\n",
    "            print(10, 0, *pdf[iz,0,0,ised,:].ravel() ,end=' ', file=fd)"
   ]
  },
  {
   "cell_type": "code",
   "execution_count": 8,
   "id": "759eb364-990f-4bd7-80f2-12bcda033d1a",
   "metadata": {},
   "outputs": [
    {
     "data": {
      "text/plain": [
       "array([[[0.36406416, 0.47023721, 0.16569862]]])"
      ]
     },
     "execution_count": 8,
     "metadata": {},
     "output_type": "execute_result"
    }
   ],
   "source": [
    "pdf.sum(axis=-1).sum(axis=0)"
   ]
  },
  {
   "cell_type": "code",
   "execution_count": 9,
   "id": "88e5f7ba-d063-4175-abf9-8680bef913ab",
   "metadata": {},
   "outputs": [
    {
     "data": {
      "text/plain": [
       "9.47990564370468"
      ]
     },
     "execution_count": 9,
     "metadata": {},
     "output_type": "execute_result"
    }
   ],
   "source": [
    "np.average(axis_scale, weights=pdf[:,0,0,0].sum(axis=0))"
   ]
  },
  {
   "cell_type": "code",
   "execution_count": 10,
   "id": "80b7a0bf-66a0-4a57-8b5e-84e610760558",
   "metadata": {},
   "outputs": [
    {
     "data": {
      "text/plain": [
       "2.117647058823529"
      ]
     },
     "execution_count": 10,
     "metadata": {},
     "output_type": "execute_result"
    }
   ],
   "source": [
    "0.36/0.17"
   ]
  },
  {
   "cell_type": "code",
   "execution_count": 11,
   "id": "45029317-0f7f-4357-aaf2-1faa3b82737c",
   "metadata": {},
   "outputs": [
    {
     "data": {
      "text/plain": [
       "<BarContainer object of 10 artists>"
      ]
     },
     "execution_count": 11,
     "metadata": {},
     "output_type": "execute_result"
    },
    {
     "data": {
      "image/png": "[encoded data removed]",
      "text/plain": [
       "<Figure size 432x288 with 1 Axes>"
      ]
     },
     "metadata": {
      "needs_background": "light"
     },
     "output_type": "display_data"
    }
   ],
   "source": [
    "plt.bar(axis_scale, pdf[:,0,0,0].sum(axis=0))"
   ]
  },
  {
   "cell_type": "code",
   "execution_count": null,
   "id": "87ba00c3-f62e-4c86-9333-a5795b93c148",
   "metadata": {},
   "outputs": [],
   "source": []
  }
 ],
 "metadata": {
  "kernelspec": {
   "display_name": "Python 3",
   "language": "python",
   "name": "python3"
  },
  "language_info": {
   "codemirror_mode": {
    "name": "ipython",
    "version": 3
   },
   "file_extension": ".py",
   "mimetype": "text/x-python",
   "name": "python",
   "nbconvert_exporter": "python",
   "pygments_lexer": "ipython3",
   "version": "3.7.10"
  }
 },
 "nbformat": 4,
 "nbformat_minor": 5
}
