{
 "cells": [
  {
   "cell_type": "code",
   "execution_count": 26,
   "id": "b27b6ae4-1a6d-49b4-a7f7-dcdb48a025a7",
   "metadata": {},
   "outputs": [],
   "source": [
    "import numpy as np\n",
    "import matplotlib.pyplot as plt"
   ]
  },
  {
   "cell_type": "code",
   "execution_count": 3,
   "id": "2ef75c44-9709-48dc-a9e3-589246564037",
   "metadata": {},
   "outputs": [],
   "source": [
    "sed = np.loadtxt('/home/aalvarez/Phosphoros/AuxiliaryData/SEDs/CosmosSp/Sa_A_0.sed')\n",
    "trans = np.loadtxt('/home/aalvarez/Phosphoros/AuxiliaryData/Filters/COSMOS/B_Subaru.res')\n",
    "shifts = np.concatenate([np.arange(-100, 0), np.arange(1, 101)])"
   ]
  },
  {
   "cell_type": "code",
   "execution_count": 7,
   "id": "8d5878f5-089a-4d52-a34b-f875a4c6783d",
   "metadata": {},
   "outputs": [
    {
     "name": "stdout",
     "output_type": "stream",
     "text": [
      "4.62 ms ± 35.1 µs per loop (mean ± std. dev. of 7 runs, 100 loops each)\n"
     ]
    }
   ],
   "source": [
    "%%timeit\n",
    "# Naive\n",
    "for s in shifts:\n",
    "    lambd = trans[:, 0] + s\n",
    "    # Interpolate the SED\n",
    "    interp_sed = np.interp(lambd, sed[:, 0], sed[:, 1], left=0, right=0)\n",
    "    # Compute the SED through the filter\n",
    "    filtered_sed = interp_sed * trans[:, 1]\n",
    "    # Compute the intensity of the filtered object\n",
    "    intensity = np.trapz(filtered_sed, x=lambd)"
   ]
  },
  {
   "cell_type": "code",
   "execution_count": 41,
   "id": "e5ce3ea7-0e38-4a93-b4de-96b8de6a0ee2",
   "metadata": {},
   "outputs": [
    {
     "name": "stdout",
     "output_type": "stream",
     "text": [
      "494 µs ± 2.58 µs per loop (mean ± std. dev. of 7 runs, 1000 loops each)\n"
     ]
    }
   ],
   "source": [
    "%%timeit\n",
    "# Iter in numpy\n",
    "lambds = np.broadcast_to(trans[:,0], shape=(len(shifts), len(trans[:,0]))) + shifts.reshape(-1, 1)\n",
    "interp_sed = np.interp(lambds, sed[:, 0], sed[:,1], left=0, right=0)\n",
    "filtered_sed = interp_sed * trans[:, 1]\n",
    "intensity = np.trapz(filtered_sed, x=lambds)"
   ]
  },
  {
   "cell_type": "code",
   "execution_count": null,
   "id": "72c50986-f69c-4ebc-b044-7d60588ecd66",
   "metadata": {},
   "outputs": [],
   "source": []
  }
 ],
 "metadata": {
  "kernelspec": {
   "display_name": "Python 3 (ipykernel)",
   "language": "python",
   "name": "python3"
  },
  "language_info": {
   "codemirror_mode": {
    "name": "ipython",
    "version": 3
   },
   "file_extension": ".py",
   "mimetype": "text/x-python",
   "name": "python",
   "nbconvert_exporter": "python",
   "pygments_lexer": "ipython3",
   "version": "3.7.10"
  }
 },
 "nbformat": 4,
 "nbformat_minor": 5
}
