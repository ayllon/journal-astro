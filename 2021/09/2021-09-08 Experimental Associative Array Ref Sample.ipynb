{
 "cells": [
  {
   "cell_type": "code",
   "execution_count": 1,
   "id": "bbab3d73-38f8-48da-af5e-6af2d70c5920",
   "metadata": {},
   "outputs": [
    {
     "name": "stderr",
     "output_type": "stream",
     "text": [
      "WARNING : using environment variable BINARY_TAG for binary_tag\n",
      "WARNING : x86_64-fc34-gcc112-dbg is not in the list of distributed configurations\n"
     ]
    }
   ],
   "source": [
    "from astropy.table import Table\n",
    "import numpy as np\n",
    "import matplotlib.pyplot as plt\n",
    "import sys\n",
    "import pickle\n",
    "from tqdm.notebook import tqdm\n",
    "\n",
    "import ElementsEnv\n",
    "%erun PHZ_NNPZ 0.12.5\n",
    "\n",
    "from nnpz.framework.NeighborSet import NeighborSet\n",
    "\n",
    "%load_ext autoreload\n",
    "%autoreload 2\n",
    "from associative import AssociativeArray"
   ]
  },
  {
   "cell_type": "code",
   "execution_count": 2,
   "id": "391f623f-6dff-4daf-9d1e-2b71c3d103ee",
   "metadata": {},
   "outputs": [
    {
     "name": "stderr",
     "output_type": "stream",
     "text": [
      "WARN: hdu= was not specified but multiple tables are present, reading in first available table (hdu=1) [astropy.io.fits.connect]\n",
      "WARN    : hdu= was not specified but multiple tables are present, reading in first available table (hdu=1)\n",
      "2021-09-08T12:17:13CEST astropy  WARN : hdu= was not specified but multiple tables are present, reading in first available table (hdu=1)\n"
     ]
    },
    {
     "name": "stdout",
     "output_type": "stream",
     "text": [
      "323088\n"
     ]
    }
   ],
   "source": [
    "ref = Table.read('/home/aalvarez/Work/Data/SC8/PHZ_Prod_02jun21_17h/ProductionInputEcdmHandler/reference_sample_dir.dir_backup/phot.fits')\n",
    "n_ref = len(ref)\n",
    "print(n_ref)"
   ]
  },
  {
   "cell_type": "code",
   "execution_count": 3,
   "id": "82872722-2112-43f3-82d7-c632af2c2b41",
   "metadata": {},
   "outputs": [
    {
     "data": {
      "text/html": [
       "&lt;Column name=&apos;ID&apos; dtype=&apos;int64&apos; length=323088&gt;\n",
       "<table>\n",
       "<tr><td>6565650032990031</td></tr>\n",
       "<tr><td>6565650033370018</td></tr>\n",
       "<tr><td>6565650129550000</td></tr>\n",
       "<tr><td>6565650131940000</td></tr>\n",
       "<tr><td>6565650133480004</td></tr>\n",
       "<tr><td>6565650164370001</td></tr>\n",
       "<tr><td>6565651208520000</td></tr>\n",
       "<tr><td>6565651220770000</td></tr>\n",
       "<tr><td>6565651224540000</td></tr>\n",
       "<tr><td>6565651224550000</td></tr>\n",
       "<tr><td>6565651224620000</td></tr>\n",
       "<tr><td>6565651224640000</td></tr>\n",
       "<tr><td>...</td></tr>\n",
       "<tr><td>9272770407860000</td></tr>\n",
       "<tr><td>9272770407860003</td></tr>\n",
       "<tr><td>9272770407860010</td></tr>\n",
       "<tr><td>9272770409200000</td></tr>\n",
       "<tr><td>9273760584190000</td></tr>\n",
       "<tr><td>9273770007380000</td></tr>\n",
       "<tr><td>9273770007410000</td></tr>\n",
       "<tr><td>9273770009140000</td></tr>\n",
       "<tr><td>9273770010850000</td></tr>\n",
       "<tr><td>9273770016100000</td></tr>\n",
       "<tr><td>9273770016750000</td></tr>\n",
       "<tr><td>9273770016830000</td></tr>\n",
       "</table>"
      ],
      "text/plain": [
       "<Column name='ID' dtype='int64' length=323088>\n",
       "6565650032990031\n",
       "6565650033370018\n",
       "6565650129550000\n",
       "6565650131940000\n",
       "6565650133480004\n",
       "6565650164370001\n",
       "6565651208520000\n",
       "6565651220770000\n",
       "6565651224540000\n",
       "6565651224550000\n",
       "6565651224620000\n",
       "6565651224640000\n",
       "             ...\n",
       "9272770407860000\n",
       "9272770407860003\n",
       "9272770407860010\n",
       "9272770409200000\n",
       "9273760584190000\n",
       "9273770007380000\n",
       "9273770007410000\n",
       "9273770009140000\n",
       "9273770010850000\n",
       "9273770016100000\n",
       "9273770016750000\n",
       "9273770016830000"
      ]
     },
     "execution_count": 3,
     "metadata": {},
     "output_type": "execute_result"
    }
   ],
   "source": [
    "ref['ID']"
   ]
  },
  {
   "cell_type": "code",
   "execution_count": 4,
   "id": "10381872-ff9d-4bad-b1de-29ff9317bcfe",
   "metadata": {},
   "outputs": [],
   "source": [
    "t = Table.read('/home/aalvarez/Work/Data/SC8/PHZ_Prod_02jun21_17h/Nnpz/output_file.fits', hdu=1)"
   ]
  },
  {
   "cell_type": "code",
   "execution_count": 5,
   "id": "35d29a8e-847e-4118-83ab-528d81ca6415",
   "metadata": {},
   "outputs": [],
   "source": [
    "nids, ncount = np.unique(t['NEIGHBOR_IDS'].ravel(), return_counts=True)"
   ]
  },
  {
   "cell_type": "code",
   "execution_count": 6,
   "id": "a7f4397e-c977-46bf-abf0-eb6a3d071636",
   "metadata": {},
   "outputs": [
    {
     "data": {
      "image/png": "[encoded data removed]",
      "text/plain": [
       "<Figure size 432x288 with 1 Axes>"
      ]
     },
     "metadata": {
      "needs_background": "light"
     },
     "output_type": "display_data"
    }
   ],
   "source": [
    "plt.figure()\n",
    "plt.hist(ncount, bins=10**np.arange(8))\n",
    "plt.xscale('log')\n",
    "plt.yscale('log')\n",
    "plt.show()"
   ]
  },
  {
   "cell_type": "markdown",
   "id": "79258ae7-3906-4c1c-bff7-13c8a9ac24e7",
   "metadata": {},
   "source": [
    "The vast majority has single-digit neighbors. Let"
   ]
  },
  {
   "cell_type": "code",
   "execution_count": 7,
   "id": "f650396c-791b-4d80-8847-9177f9f1a3ee",
   "metadata": {},
   "outputs": [
    {
     "name": "stdout",
     "output_type": "stream",
     "text": [
      "59146\n"
     ]
    }
   ],
   "source": [
    "n_neighbors = 30\n",
    "n_sources = len(t)\n",
    "print(n_sources)"
   ]
  },
  {
   "cell_type": "markdown",
   "id": "9b1950d5-8eb6-4be5-8625-861395840d4d",
   "metadata": {},
   "source": [
    "Then simply"
   ]
  },
  {
   "cell_type": "code",
   "execution_count": 8,
   "id": "294214f6-b60a-4247-8125-00f3d2112bc0",
   "metadata": {},
   "outputs": [
    {
     "name": "stdout",
     "output_type": "stream",
     "text": [
      "1774380\n"
     ]
    }
   ],
   "source": [
    "n_entries = n_neighbors * n_sources\n",
    "print(n_entries)"
   ]
  },
  {
   "cell_type": "code",
   "execution_count": 9,
   "id": "436f0163-4f87-4386-b971-88216d0f5442",
   "metadata": {},
   "outputs": [
    {
     "data": {
      "image/png": "[encoded data removed]",
      "text/plain": [
       "<Figure size 432x288 with 1 Axes>"
      ]
     },
     "metadata": {
      "needs_background": "light"
     },
     "output_type": "display_data"
    }
   ],
   "source": [
    "plt.figure()\n",
    "plt.hist(nids % n_entries, bins=100)\n",
    "plt.show()"
   ]
  },
  {
   "cell_type": "markdown",
   "id": "1852acaa-47e9-4663-a76e-1adcdb370d45",
   "metadata": {},
   "source": [
    "When we take the module, the distribution is fairly uniform. This means the module operation can be useful for\n",
    "an associative array.\n",
    "We need"
   ]
  },
  {
   "cell_type": "code",
   "execution_count": 10,
   "id": "e6a4f4de-6d72-4679-88c4-5fa3123dec3b",
   "metadata": {},
   "outputs": [
    {
     "name": "stdout",
     "output_type": "stream",
     "text": [
      "13.54 MiB\n"
     ]
    }
   ],
   "source": [
    "print('{:.2f} MiB'.format(t['NEIGHBOR_IDS'].nbytes / 1024 / 1024))"
   ]
  },
  {
   "cell_type": "markdown",
   "id": "08d2096a-abd8-431e-a42f-767d64e66ca3",
   "metadata": {},
   "source": [
    "To store the full association. This has the disadvantage of not being in reference sample order (bad for photometry recomputation).\n",
    "Multiply by 10 for a catalog with 500k sources, searching over it would be long.\n",
    "\n",
    "The idea is to use an associative array with"
   ]
  },
  {
   "cell_type": "code",
   "execution_count": 11,
   "id": "6f61170b-129e-40e2-9763-b4dc97903c44",
   "metadata": {},
   "outputs": [
    {
     "name": "stdout",
     "output_type": "stream",
     "text": [
      "41.97 MiB\n"
     ]
    }
   ],
   "source": [
    "associative_n = (n_neighbors + 1) * n_sources # Need a sentinel\n",
    "size_entry = 8 * 3 # Reference ID + Object ID + Scale. Weight can go straight to the output.\n",
    "print('{:.2f} MiB'.format((associative_n * size_entry)/1024/1024))"
   ]
  },
  {
   "cell_type": "markdown",
   "id": "0a48f99f-6df7-459c-a4d5-720bdf1266d6",
   "metadata": {},
   "source": [
    "Not so bad, although we need some complication to avoid collisions. How many?"
   ]
  },
  {
   "cell_type": "code",
   "execution_count": 12,
   "id": "11061031-a72d-4dd9-bbfe-416de6755164",
   "metadata": {},
   "outputs": [
    {
     "name": "stdout",
     "output_type": "stream",
     "text": [
      "0.13 %\n"
     ]
    }
   ],
   "source": [
    "hashes = nids % associative_n\n",
    "unique_hashes, count_hashes = np.unique(hashes, return_counts=True)\n",
    "print('{:.2f} %'.format((len(hashes) - len(unique_hashes)) / len(hashes)))"
   ]
  },
  {
   "cell_type": "code",
   "execution_count": 24,
   "id": "2f25e314-d79e-49a3-adf9-824700a0633b",
   "metadata": {},
   "outputs": [
    {
     "name": "stdout",
     "output_type": "stream",
     "text": [
      "0.13 %\n"
     ]
    }
   ],
   "source": [
    "alt_hash = np.array([hash(i) for i in nids]) % associative_n\n",
    "unique_hashes, count_hashes = np.unique(alt_hash, return_counts=True)\n",
    "print('{:.2f} %'.format((len(hashes) - len(unique_hashes)) / len(hashes)))"
   ]
  },
  {
   "cell_type": "markdown",
   "id": "06d26c94-738c-4068-8e9d-00d6c3c1c1d0",
   "metadata": {},
   "source": [
    "So 0.13% of collisions. Not so bad. There will be more since some reference objects can have more than one neighbor, but most don't.\n",
    "\n",
    "How much for a dictionary?"
   ]
  },
  {
   "cell_type": "code",
   "execution_count": 13,
   "id": "5b90b08a-3669-4d05-a10e-6abef2ceb99d",
   "metadata": {},
   "outputs": [
    {
     "name": "stdout",
     "output_type": "stream",
     "text": [
      "CPU times: user 15.7 s, sys: 267 ms, total: 15.9 s\n",
      "Wall time: 16 s\n"
     ]
    }
   ],
   "source": [
    "%%time\n",
    "ref_dict = dict()\n",
    "for obj in t:\n",
    "    for pos, n in enumerate(obj['NEIGHBOR_IDS']):\n",
    "        if n not in ref_dict:\n",
    "            ref_dict[n] = NeighborSet()\n",
    "        ref_dict[n].append(obj['OBJECT_ID'], scale=1., distance=0.8, position=pos)"
   ]
  },
  {
   "cell_type": "code",
   "execution_count": 14,
   "id": "f6476c3f-c4b5-49d5-b823-5d544c263393",
   "metadata": {},
   "outputs": [
    {
     "data": {
      "text/plain": [
       "156.04414749145508"
      ]
     },
     "execution_count": 14,
     "metadata": {},
     "output_type": "execute_result"
    }
   ],
   "source": [
    "sys.getsizeof(pickle.dumps(ref_dict)) / 1024 / 1024"
   ]
  },
  {
   "cell_type": "markdown",
   "id": "66658413-7a75-479a-97ea-b938ee2a5fa7",
   "metadata": {},
   "source": [
    "That's 3 times. Of course, it is storing the distance and position, which are needed by the current implementation."
   ]
  },
  {
   "cell_type": "code",
   "execution_count": 26,
   "id": "b5c4fd34-87aa-4343-800f-e494aea177aa",
   "metadata": {},
   "outputs": [
    {
     "name": "stdout",
     "output_type": "stream",
     "text": [
      "CPU times: user 20.7 s, sys: 104 ms, total: 20.8 s\n",
      "Wall time: 20.8 s\n"
     ]
    }
   ],
   "source": [
    "%%time\n",
    "assoc = AssociativeArray(ref['ID'], n_sources, n_neighbors, [('scale', np.float32), ('distance', np.float32), ('position', np.int32)])\n",
    "for obj in t:\n",
    "    for pos, n in enumerate(obj['NEIGHBOR_IDS']):\n",
    "        assoc.append(ref_id=n, source_id=obj['OBJECT_ID'], scale=1., distance=0.8, position=pos)"
   ]
  },
  {
   "cell_type": "code",
   "execution_count": 27,
   "id": "eb97e1ee-8d8f-4e4a-80a4-0734bbbc8c5c",
   "metadata": {},
   "outputs": [
    {
     "data": {
      "text/plain": [
       "47.23444747924805"
      ]
     },
     "execution_count": 27,
     "metadata": {},
     "output_type": "execute_result"
    }
   ],
   "source": [
    "(assoc._data.nbytes + assoc._ref_index.nbytes) / 1024 / 1024"
   ]
  },
  {
   "cell_type": "code",
   "execution_count": 28,
   "id": "fb8e0fce-bbf3-41ff-9925-9c9a92f3bcb9",
   "metadata": {
    "tags": []
   },
   "outputs": [
    {
     "data": {
      "application/vnd.jupyter.widget-view+json": {
       "model_id": "c03ddd9708134036b278c5fb41e9ac75",
       "version_major": 2,
       "version_minor": 0
      },
      "text/plain": [
       "  0%|          | 0/219305 [00:00<?, ?it/s]"
      ]
     },
     "metadata": {},
     "output_type": "display_data"
    }
   ],
   "source": [
    "for k in tqdm(list(assoc)):\n",
    "    if k not in ref_dict:\n",
    "        continue\n",
    "    dn = ref_dict[k]\n",
    "    an = assoc.get(k)\n",
    "    assert len(dn) == len(an), (k, len(dn), len(an))\n",
    "    assert set(dn.index) == set(an['object_id'])"
   ]
  },
  {
   "cell_type": "code",
   "execution_count": null,
   "id": "254b6ea9-7014-4800-b6f0-a7b60efb3041",
   "metadata": {},
   "outputs": [],
   "source": [
    "156.04/47.23"
   ]
  },
  {
   "cell_type": "code",
   "execution_count": null,
   "id": "a0ae44f7-1aa5-4391-b0e4-c8a73d0a4e60",
   "metadata": {},
   "outputs": [],
   "source": []
  }
 ],
 "metadata": {
  "kernelspec": {
   "display_name": "Python 3 (ipykernel)",
   "language": "python",
   "name": "python3"
  },
  "language_info": {
   "codemirror_mode": {
    "name": "ipython",
    "version": 3
   },
   "file_extension": ".py",
   "mimetype": "text/x-python",
   "name": "python",
   "nbconvert_exporter": "python",
   "pygments_lexer": "ipython3",
   "version": "3.7.10"
  }
 },
 "nbformat": 4,
 "nbformat_minor": 5
}
